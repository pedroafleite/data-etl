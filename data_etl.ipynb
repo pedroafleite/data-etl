{
  "cells": [
    {
      "cell_type": "markdown",
      "metadata": {
        "id": "view-in-github",
        "colab_type": "text"
      },
      "source": [
        "<a href=\"https://colab.research.google.com/github/pedroafleite/data_etl/blob/main/data_etl.ipynb\" target=\"_parent\"><img src=\"https://colab.research.google.com/assets/colab-badge.svg\" alt=\"Open In Colab\"/></a>"
      ]
    },
    {
      "cell_type": "code",
      "execution_count": 1,
      "metadata": {
        "colab": {
          "base_uri": "https://localhost:8080/"
        },
        "id": "C2f2sjHjojrQ",
        "outputId": "6fc2b6e4-2168-447c-bac5-5ceb1f4df8c4"
      },
      "outputs": [
        {
          "output_type": "stream",
          "name": "stdout",
          "text": [
            "Collecting pyspark\n",
            "  Downloading pyspark-3.2.1.tar.gz (281.4 MB)\n",
            "\u001b[K     |████████████████████████████████| 281.4 MB 28 kB/s \n",
            "\u001b[?25hCollecting py4j==0.10.9.3\n",
            "  Downloading py4j-0.10.9.3-py2.py3-none-any.whl (198 kB)\n",
            "\u001b[K     |████████████████████████████████| 198 kB 48.7 MB/s \n",
            "\u001b[?25hBuilding wheels for collected packages: pyspark\n",
            "  Building wheel for pyspark (setup.py) ... \u001b[?25l\u001b[?25hdone\n",
            "  Created wheel for pyspark: filename=pyspark-3.2.1-py2.py3-none-any.whl size=281853642 sha256=f072740c42fb27c3b3a38e919e276fa76448e0154ecbe0ec01415fe36dcd9649\n",
            "  Stored in directory: /root/.cache/pip/wheels/9f/f5/07/7cd8017084dce4e93e84e92efd1e1d5334db05f2e83bcef74f\n",
            "Successfully built pyspark\n",
            "Installing collected packages: py4j, pyspark\n",
            "Successfully installed py4j-0.10.9.3 pyspark-3.2.1\n",
            "Mounted at /content/drive\n"
          ]
        }
      ],
      "source": [
        "!pip install pyspark\n",
        "\n",
        "from google.colab import drive\n",
        "drive.mount('/content/drive')"
      ]
    },
    {
      "cell_type": "code",
      "execution_count": 2,
      "metadata": {
        "id": "RU-3_rLmdak2"
      },
      "outputs": [],
      "source": [
        "import pandas as pd\n",
        "from pyspark.sql import SparkSession\n",
        "import json\n"
      ]
    },
    {
      "cell_type": "code",
      "execution_count": 3,
      "metadata": {
        "id": "d0Q6Xf5keB1F"
      },
      "outputs": [],
      "source": [
        "spark = SparkSession.builder.getOrCreate()"
      ]
    },
    {
      "cell_type": "code",
      "source": [
        "df = pd.read_json('/content/drive/MyDrive/Colab Notebooks/data_etl/data_etl_test/cosmos.jl', lines=True)"
      ],
      "metadata": {
        "id": "FkJAq4E9RuSZ"
      },
      "execution_count": 15,
      "outputs": []
    },
    {
      "cell_type": "code",
      "source": [
        "json_struct = json.loads(df.to_json(orient=\"records\"))\n",
        "df_flat = pd.io.json.json_normalize(json_struct) #use pd.io.json"
      ],
      "metadata": {
        "colab": {
          "base_uri": "https://localhost:8080/"
        },
        "id": "yIlP_vJWJiR7",
        "outputId": "0903340c-0a55-48d4-edf9-2ce4862d82e1"
      },
      "execution_count": 17,
      "outputs": [
        {
          "output_type": "stream",
          "name": "stderr",
          "text": [
            "/usr/local/lib/python3.7/dist-packages/ipykernel_launcher.py:2: FutureWarning: pandas.io.json.json_normalize is deprecated, use pandas.json_normalize instead\n",
            "  \n"
          ]
        }
      ]
    },
    {
      "cell_type": "code",
      "source": [
        "df_flat.head()"
      ],
      "metadata": {
        "colab": {
          "base_uri": "https://localhost:8080/",
          "height": 530
        },
        "id": "8yTH-f5FJ_lF",
        "outputId": "dd612b20-96ce-4c9a-be01-d6d9011a2566"
      },
      "execution_count": 19,
      "outputs": [
        {
          "output_type": "execute_result",
          "data": {
            "text/html": [
              "\n",
              "  <div id=\"df-9bc4b243-9757-443f-82ed-a131b48a2dc3\">\n",
              "    <div class=\"colab-df-container\">\n",
              "      <div>\n",
              "<style scoped>\n",
              "    .dataframe tbody tr th:only-of-type {\n",
              "        vertical-align: middle;\n",
              "    }\n",
              "\n",
              "    .dataframe tbody tr th {\n",
              "        vertical-align: top;\n",
              "    }\n",
              "\n",
              "    .dataframe thead th {\n",
              "        text-align: right;\n",
              "    }\n",
              "</style>\n",
              "<table border=\"1\" class=\"dataframe\">\n",
              "  <thead>\n",
              "    <tr style=\"text-align: right;\">\n",
              "      <th></th>\n",
              "      <th>id</th>\n",
              "      <th>gtin</th>\n",
              "      <th>created_at</th>\n",
              "      <th>response.gcp.code</th>\n",
              "      <th>response.gcp.description</th>\n",
              "      <th>response.ncm.code</th>\n",
              "      <th>response.ncm.description</th>\n",
              "      <th>response.gtin</th>\n",
              "      <th>response.brand</th>\n",
              "      <th>response.image</th>\n",
              "      <th>response.units</th>\n",
              "      <th>response.status</th>\n",
              "      <th>response.autited</th>\n",
              "      <th>response.description</th>\n",
              "    </tr>\n",
              "  </thead>\n",
              "  <tbody>\n",
              "    <tr>\n",
              "      <th>0</th>\n",
              "      <td>16bde255-988c-466b-9d35-39b706b9fbda</td>\n",
              "      <td>7896040700276</td>\n",
              "      <td>1540236268000</td>\n",
              "      <td>10000424</td>\n",
              "      <td>Detergentes para a roupa</td>\n",
              "      <td>3402.20.00</td>\n",
              "      <td>Preparações acondicionadas para venda a retalho</td>\n",
              "      <td>07896040700276</td>\n",
              "      <td>None</td>\n",
              "      <td>https://cdn-cosmos.bluesoft.com.br/products/78...</td>\n",
              "      <td>[{'gtin': '7896040700276', 'type': 'Unidade', ...</td>\n",
              "      <td>OK</td>\n",
              "      <td></td>\n",
              "      <td>LAVA ROUPAS COQUETEL ERVAS</td>\n",
              "    </tr>\n",
              "    <tr>\n",
              "      <th>1</th>\n",
              "      <td>96f61c2b-5057-439c-9717-847efe5ea7a5</td>\n",
              "      <td>78909434</td>\n",
              "      <td>1539995834000</td>\n",
              "      <td>None</td>\n",
              "      <td>None</td>\n",
              "      <td>1806.90.00</td>\n",
              "      <td>Outros</td>\n",
              "      <td>00000078909434</td>\n",
              "      <td>FERRERO ROCHER</td>\n",
              "      <td>https://cdn-cosmos.bluesoft.com.br/products/78...</td>\n",
              "      <td>[{'gtin': '78909434', 'type': 'Unidade', 'pack...</td>\n",
              "      <td>OK</td>\n",
              "      <td>AUDITADO</td>\n",
              "      <td>BOMBOM FERRERO ROCHER 3X16G</td>\n",
              "    </tr>\n",
              "    <tr>\n",
              "      <th>2</th>\n",
              "      <td>8ee42cd3-4200-45dc-a10f-6b9e62bc5127</td>\n",
              "      <td>7898917945100</td>\n",
              "      <td>1540442673000</td>\n",
              "      <td>NaN</td>\n",
              "      <td>NaN</td>\n",
              "      <td>NaN</td>\n",
              "      <td>NaN</td>\n",
              "      <td>NaN</td>\n",
              "      <td>NaN</td>\n",
              "      <td>NaN</td>\n",
              "      <td>NaN</td>\n",
              "      <td>GTIN_NOT_FOUND</td>\n",
              "      <td>NaN</td>\n",
              "      <td>NaN</td>\n",
              "    </tr>\n",
              "    <tr>\n",
              "      <th>3</th>\n",
              "      <td>bda1d82f-cfad-482c-a243-65ae7f04a7bd</td>\n",
              "      <td>27702018072396</td>\n",
              "      <td>1540272188000</td>\n",
              "      <td>NaN</td>\n",
              "      <td>NaN</td>\n",
              "      <td>NaN</td>\n",
              "      <td>NaN</td>\n",
              "      <td>NaN</td>\n",
              "      <td>NaN</td>\n",
              "      <td>NaN</td>\n",
              "      <td>NaN</td>\n",
              "      <td>GTIN_NOT_FOUND</td>\n",
              "      <td>NaN</td>\n",
              "      <td>NaN</td>\n",
              "    </tr>\n",
              "    <tr>\n",
              "      <th>4</th>\n",
              "      <td>427b4261-d73d-4c13-a085-d9d5bb988c39</td>\n",
              "      <td>7896005279595</td>\n",
              "      <td>1549576419000</td>\n",
              "      <td>NaN</td>\n",
              "      <td>NaN</td>\n",
              "      <td>NaN</td>\n",
              "      <td>NaN</td>\n",
              "      <td>NaN</td>\n",
              "      <td>NaN</td>\n",
              "      <td>NaN</td>\n",
              "      <td>NaN</td>\n",
              "      <td>GTIN_NOT_FOUND</td>\n",
              "      <td>NaN</td>\n",
              "      <td>NaN</td>\n",
              "    </tr>\n",
              "  </tbody>\n",
              "</table>\n",
              "</div>\n",
              "      <button class=\"colab-df-convert\" onclick=\"convertToInteractive('df-9bc4b243-9757-443f-82ed-a131b48a2dc3')\"\n",
              "              title=\"Convert this dataframe to an interactive table.\"\n",
              "              style=\"display:none;\">\n",
              "        \n",
              "  <svg xmlns=\"http://www.w3.org/2000/svg\" height=\"24px\"viewBox=\"0 0 24 24\"\n",
              "       width=\"24px\">\n",
              "    <path d=\"M0 0h24v24H0V0z\" fill=\"none\"/>\n",
              "    <path d=\"M18.56 5.44l.94 2.06.94-2.06 2.06-.94-2.06-.94-.94-2.06-.94 2.06-2.06.94zm-11 1L8.5 8.5l.94-2.06 2.06-.94-2.06-.94L8.5 2.5l-.94 2.06-2.06.94zm10 10l.94 2.06.94-2.06 2.06-.94-2.06-.94-.94-2.06-.94 2.06-2.06.94z\"/><path d=\"M17.41 7.96l-1.37-1.37c-.4-.4-.92-.59-1.43-.59-.52 0-1.04.2-1.43.59L10.3 9.45l-7.72 7.72c-.78.78-.78 2.05 0 2.83L4 21.41c.39.39.9.59 1.41.59.51 0 1.02-.2 1.41-.59l7.78-7.78 2.81-2.81c.8-.78.8-2.07 0-2.86zM5.41 20L4 18.59l7.72-7.72 1.47 1.35L5.41 20z\"/>\n",
              "  </svg>\n",
              "      </button>\n",
              "      \n",
              "  <style>\n",
              "    .colab-df-container {\n",
              "      display:flex;\n",
              "      flex-wrap:wrap;\n",
              "      gap: 12px;\n",
              "    }\n",
              "\n",
              "    .colab-df-convert {\n",
              "      background-color: #E8F0FE;\n",
              "      border: none;\n",
              "      border-radius: 50%;\n",
              "      cursor: pointer;\n",
              "      display: none;\n",
              "      fill: #1967D2;\n",
              "      height: 32px;\n",
              "      padding: 0 0 0 0;\n",
              "      width: 32px;\n",
              "    }\n",
              "\n",
              "    .colab-df-convert:hover {\n",
              "      background-color: #E2EBFA;\n",
              "      box-shadow: 0px 1px 2px rgba(60, 64, 67, 0.3), 0px 1px 3px 1px rgba(60, 64, 67, 0.15);\n",
              "      fill: #174EA6;\n",
              "    }\n",
              "\n",
              "    [theme=dark] .colab-df-convert {\n",
              "      background-color: #3B4455;\n",
              "      fill: #D2E3FC;\n",
              "    }\n",
              "\n",
              "    [theme=dark] .colab-df-convert:hover {\n",
              "      background-color: #434B5C;\n",
              "      box-shadow: 0px 1px 3px 1px rgba(0, 0, 0, 0.15);\n",
              "      filter: drop-shadow(0px 1px 2px rgba(0, 0, 0, 0.3));\n",
              "      fill: #FFFFFF;\n",
              "    }\n",
              "  </style>\n",
              "\n",
              "      <script>\n",
              "        const buttonEl =\n",
              "          document.querySelector('#df-9bc4b243-9757-443f-82ed-a131b48a2dc3 button.colab-df-convert');\n",
              "        buttonEl.style.display =\n",
              "          google.colab.kernel.accessAllowed ? 'block' : 'none';\n",
              "\n",
              "        async function convertToInteractive(key) {\n",
              "          const element = document.querySelector('#df-9bc4b243-9757-443f-82ed-a131b48a2dc3');\n",
              "          const dataTable =\n",
              "            await google.colab.kernel.invokeFunction('convertToInteractive',\n",
              "                                                     [key], {});\n",
              "          if (!dataTable) return;\n",
              "\n",
              "          const docLinkHtml = 'Like what you see? Visit the ' +\n",
              "            '<a target=\"_blank\" href=https://colab.research.google.com/notebooks/data_table.ipynb>data table notebook</a>'\n",
              "            + ' to learn more about interactive tables.';\n",
              "          element.innerHTML = '';\n",
              "          dataTable['output_type'] = 'display_data';\n",
              "          await google.colab.output.renderOutput(dataTable, element);\n",
              "          const docLink = document.createElement('div');\n",
              "          docLink.innerHTML = docLinkHtml;\n",
              "          element.appendChild(docLink);\n",
              "        }\n",
              "      </script>\n",
              "    </div>\n",
              "  </div>\n",
              "  "
            ],
            "text/plain": [
              "                                     id  ...         response.description\n",
              "0  16bde255-988c-466b-9d35-39b706b9fbda  ...   LAVA ROUPAS COQUETEL ERVAS\n",
              "1  96f61c2b-5057-439c-9717-847efe5ea7a5  ...  BOMBOM FERRERO ROCHER 3X16G\n",
              "2  8ee42cd3-4200-45dc-a10f-6b9e62bc5127  ...                          NaN\n",
              "3  bda1d82f-cfad-482c-a243-65ae7f04a7bd  ...                          NaN\n",
              "4  427b4261-d73d-4c13-a085-d9d5bb988c39  ...                          NaN\n",
              "\n",
              "[5 rows x 14 columns]"
            ]
          },
          "metadata": {},
          "execution_count": 19
        }
      ]
    },
    {
      "cell_type": "code",
      "source": [
        "data"
      ],
      "metadata": {
        "colab": {
          "base_uri": "https://localhost:8080/",
          "height": 128
        },
        "id": "5SSFU4wySIWo",
        "outputId": "c13a184e-ee09-4d58-a5c8-16feb89e7a09"
      },
      "execution_count": 12,
      "outputs": [
        {
          "output_type": "execute_result",
          "data": {
            "application/vnd.google.colaboratory.intrinsic+json": {
              "type": "string"
            },
            "text/plain": [
              "'{\"id\":\"16bde255-988c-466b-9d35-39b706b9fbda\",\"gtin\":\"07896040700276\",\"response\":{\"gcp\":{\"code\":\"10000424\",\"description\":\"Detergentes para a roupa\"},\"ncm\":{\"code\":\"3402.20.00\",\"description\":\"Prepara\\\\u00e7\\\\u00f5es acondicionadas para venda a retalho\"},\"gtin\":\"07896040700276\",\"brand\":null,\"image\":\"https:\\\\/\\\\/cdn-cosmos.bluesoft.com.br\\\\/products\\\\/7896040700276\",\"units\":[{\"gtin\":\"7896040700276\",\"type\":\"Unidade\",\"packing_size\":\"1\"}],\"status\":\"OK\",\"autited\":\"\",\"description\":\"LAVA ROUPAS COQUETEL ERVAS\"},\"created_at\":\"2018-10-22 19:24:28\"}\\n{\"id\":\"96f61c2b-5057-439c-9717-847efe5ea7a5\",\"gtin\":\"00000078909434\",\"response\":{\"gcp\":{\"code\":null,\"description\":null},\"ncm\":{\"code\":\"1806.90.00\",\"description\":\"Outros\"},\"gtin\":\"00000078909434\",\"brand\":\"FERRERO ROCHER\",\"image\":\"https:\\\\/\\\\/cdn-cosmos.bluesoft.com.br\\\\/products\\\\/78909434\",\"units\":[{\"gtin\":\"78909434\",\"type\":\"Unidade\",\"packing_size\":\"1\"}],\"status\":\"OK\",\"autited\":\"AUDITADO\",\"description\":\"BOMBOM FERRERO ROCHER 3X16G\"},\"created_at\":\"2018-10-20 00:37'"
            ]
          },
          "metadata": {},
          "execution_count": 12
        }
      ]
    },
    {
      "cell_type": "code",
      "execution_count": null,
      "metadata": {
        "colab": {
          "base_uri": "https://localhost:8080/"
        },
        "id": "4T_oxQMLUGO_",
        "outputId": "b52d27ec-6303-419c-f7ce-6aa0a158651f"
      },
      "outputs": [
        {
          "name": "stdout",
          "output_type": "stream",
          "text": [
            "otherTag01:A|otherTag02:X\n"
          ]
        }
      ],
      "source": [
        "list_tags = data['doc']['metadata']['otherTags']\n",
        "\n",
        "d = []\n",
        "\n",
        "for i in range(len(list_tags)):\n",
        "  a = data['doc']['metadata']['otherTags'][i]['tagName']\n",
        "  b = data['doc']['metadata']['otherTags'][i]['tagValue']\n",
        "  c = a + ':' + b\n",
        "  d.append(c)\n",
        "\n",
        "other_tags = '|'.join(d)\n",
        "print(other_tags)"
      ]
    },
    {
      "cell_type": "code",
      "execution_count": null,
      "metadata": {
        "colab": {
          "base_uri": "https://localhost:8080/"
        },
        "id": "97xvRnb9aAQG",
        "outputId": "8a061993-f89a-4a08-aaf3-4f48865945dd"
      },
      "outputs": [
        {
          "name": "stdout",
          "output_type": "stream",
          "text": [
            "+--------------------+------------+-----------+------------+--------------------+----------+----------+--------------------+-----------+\n",
            "|      eventTimestamp| eventSource|  eventType|eventVersion|           accountId|superTag01|superTag02|     concatOtherTags|    payload|\n",
            "+--------------------+------------+-----------+------------+--------------------+----------+----------+--------------------+-----------+\n",
            "|2019-04-02T21:55:57Z|doc.contract|DocSchedule|         1.0|EA2425CF-EF72-40C...|         A|         C|otherTag01:A|othe...|texto teste|\n",
            "+--------------------+------------+-----------+------------+--------------------+----------+----------+--------------------+-----------+\n",
            "\n"
          ]
        }
      ],
      "source": [
        "pandas_df = pd.DataFrame({\n",
        "    'eventTimestamp': [data['eventTimestamp']],\n",
        "    'eventSource': [data['eventSource']],\n",
        "    'eventType': [data['eventType']],\n",
        "    'eventVersion': [data['eventVersion']],\n",
        "    'accountId': [data['doc']['metadata']['accountId']],\n",
        "    'superTag01': [data['doc']['metadata']['superTag01']],\n",
        "    'superTag02': [data['doc']['metadata']['superTag02']],\n",
        "    'concatOtherTags': [other_tags],\n",
        "    'payload': [data['doc']['payload']]\n",
        "})\n",
        "df = spark.createDataFrame(pandas_df)\n",
        "df.show()"
      ]
    },
    {
      "cell_type": "code",
      "execution_count": null,
      "metadata": {
        "colab": {
          "base_uri": "https://localhost:8080/",
          "height": 306
        },
        "id": "KlXNalwLaz1k",
        "outputId": "2c30e04c-77cb-46bf-c829-8b055cf2e59a"
      },
      "outputs": [
        {
          "ename": "AnalysisException",
          "evalue": "ignored",
          "output_type": "error",
          "traceback": [
            "\u001b[0;31m---------------------------------------------------------------------------\u001b[0m",
            "\u001b[0;31mAnalysisException\u001b[0m                         Traceback (most recent call last)",
            "\u001b[0;32m<ipython-input-7-799d8a3e7664>\u001b[0m in \u001b[0;36m<module>\u001b[0;34m()\u001b[0m\n\u001b[0;32m----> 1\u001b[0;31m \u001b[0mdf\u001b[0m\u001b[0;34m.\u001b[0m\u001b[0mwrite\u001b[0m\u001b[0;34m.\u001b[0m\u001b[0mparquet\u001b[0m\u001b[0;34m(\u001b[0m\u001b[0;34m\"/content/drive/MyDrive/Colab Notebooks/pyspark/output/proto.parquet\"\u001b[0m\u001b[0;34m)\u001b[0m\u001b[0;34m\u001b[0m\u001b[0;34m\u001b[0m\u001b[0m\n\u001b[0m",
            "\u001b[0;32m/usr/local/lib/python3.7/dist-packages/pyspark/sql/readwriter.py\u001b[0m in \u001b[0;36mparquet\u001b[0;34m(self, path, mode, partitionBy, compression)\u001b[0m\n\u001b[1;32m    883\u001b[0m             \u001b[0mself\u001b[0m\u001b[0;34m.\u001b[0m\u001b[0mpartitionBy\u001b[0m\u001b[0;34m(\u001b[0m\u001b[0mpartitionBy\u001b[0m\u001b[0;34m)\u001b[0m\u001b[0;34m\u001b[0m\u001b[0;34m\u001b[0m\u001b[0m\n\u001b[1;32m    884\u001b[0m         \u001b[0mself\u001b[0m\u001b[0;34m.\u001b[0m\u001b[0m_set_opts\u001b[0m\u001b[0;34m(\u001b[0m\u001b[0mcompression\u001b[0m\u001b[0;34m=\u001b[0m\u001b[0mcompression\u001b[0m\u001b[0;34m)\u001b[0m\u001b[0;34m\u001b[0m\u001b[0;34m\u001b[0m\u001b[0m\n\u001b[0;32m--> 885\u001b[0;31m         \u001b[0mself\u001b[0m\u001b[0;34m.\u001b[0m\u001b[0m_jwrite\u001b[0m\u001b[0;34m.\u001b[0m\u001b[0mparquet\u001b[0m\u001b[0;34m(\u001b[0m\u001b[0mpath\u001b[0m\u001b[0;34m)\u001b[0m\u001b[0;34m\u001b[0m\u001b[0;34m\u001b[0m\u001b[0m\n\u001b[0m\u001b[1;32m    886\u001b[0m \u001b[0;34m\u001b[0m\u001b[0m\n\u001b[1;32m    887\u001b[0m     \u001b[0;32mdef\u001b[0m \u001b[0mtext\u001b[0m\u001b[0;34m(\u001b[0m\u001b[0mself\u001b[0m\u001b[0;34m,\u001b[0m \u001b[0mpath\u001b[0m\u001b[0;34m,\u001b[0m \u001b[0mcompression\u001b[0m\u001b[0;34m=\u001b[0m\u001b[0;32mNone\u001b[0m\u001b[0;34m,\u001b[0m \u001b[0mlineSep\u001b[0m\u001b[0;34m=\u001b[0m\u001b[0;32mNone\u001b[0m\u001b[0;34m)\u001b[0m\u001b[0;34m:\u001b[0m\u001b[0;34m\u001b[0m\u001b[0;34m\u001b[0m\u001b[0m\n",
            "\u001b[0;32m/usr/local/lib/python3.7/dist-packages/py4j/java_gateway.py\u001b[0m in \u001b[0;36m__call__\u001b[0;34m(self, *args)\u001b[0m\n\u001b[1;32m   1308\u001b[0m         \u001b[0manswer\u001b[0m \u001b[0;34m=\u001b[0m \u001b[0mself\u001b[0m\u001b[0;34m.\u001b[0m\u001b[0mgateway_client\u001b[0m\u001b[0;34m.\u001b[0m\u001b[0msend_command\u001b[0m\u001b[0;34m(\u001b[0m\u001b[0mcommand\u001b[0m\u001b[0;34m)\u001b[0m\u001b[0;34m\u001b[0m\u001b[0;34m\u001b[0m\u001b[0m\n\u001b[1;32m   1309\u001b[0m         return_value = get_return_value(\n\u001b[0;32m-> 1310\u001b[0;31m             answer, self.gateway_client, self.target_id, self.name)\n\u001b[0m\u001b[1;32m   1311\u001b[0m \u001b[0;34m\u001b[0m\u001b[0m\n\u001b[1;32m   1312\u001b[0m         \u001b[0;32mfor\u001b[0m \u001b[0mtemp_arg\u001b[0m \u001b[0;32min\u001b[0m \u001b[0mtemp_args\u001b[0m\u001b[0;34m:\u001b[0m\u001b[0;34m\u001b[0m\u001b[0;34m\u001b[0m\u001b[0m\n",
            "\u001b[0;32m/usr/local/lib/python3.7/dist-packages/pyspark/sql/utils.py\u001b[0m in \u001b[0;36mdeco\u001b[0;34m(*a, **kw)\u001b[0m\n\u001b[1;32m    115\u001b[0m                 \u001b[0;31m# Hide where the exception came from that shows a non-Pythonic\u001b[0m\u001b[0;34m\u001b[0m\u001b[0;34m\u001b[0m\u001b[0;34m\u001b[0m\u001b[0m\n\u001b[1;32m    116\u001b[0m                 \u001b[0;31m# JVM exception message.\u001b[0m\u001b[0;34m\u001b[0m\u001b[0;34m\u001b[0m\u001b[0;34m\u001b[0m\u001b[0m\n\u001b[0;32m--> 117\u001b[0;31m                 \u001b[0;32mraise\u001b[0m \u001b[0mconverted\u001b[0m \u001b[0;32mfrom\u001b[0m \u001b[0;32mNone\u001b[0m\u001b[0;34m\u001b[0m\u001b[0;34m\u001b[0m\u001b[0m\n\u001b[0m\u001b[1;32m    118\u001b[0m             \u001b[0;32melse\u001b[0m\u001b[0;34m:\u001b[0m\u001b[0;34m\u001b[0m\u001b[0;34m\u001b[0m\u001b[0m\n\u001b[1;32m    119\u001b[0m                 \u001b[0;32mraise\u001b[0m\u001b[0;34m\u001b[0m\u001b[0;34m\u001b[0m\u001b[0m\n",
            "\u001b[0;31mAnalysisException\u001b[0m: path file:/content/drive/MyDrive/Colab Notebooks/pyspark/output/proto.parquet already exists."
          ]
        }
      ],
      "source": [
        "df.write.parquet(\"/content/drive/MyDrive/Colab Notebooks/pyspark/output/proto.parquet\")"
      ]
    },
    {
      "cell_type": "code",
      "execution_count": null,
      "metadata": {
        "colab": {
          "base_uri": "https://localhost:8080/",
          "height": 35
        },
        "id": "pT9zaIG0pSvn",
        "outputId": "8bfe0fae-e75d-4817-8c13-814c9b08a0c1"
      },
      "outputs": [
        {
          "data": {
            "application/vnd.google.colaboratory.intrinsic+json": {
              "type": "string"
            },
            "text/plain": [
              "'2021-10-31'"
            ]
          },
          "execution_count": 13,
          "metadata": {},
          "output_type": "execute_result"
        }
      ],
      "source": [
        "import datetime\n",
        "\n",
        "f\"{datetime.datetime.now():%Y-%m-%d}\""
      ]
    },
    {
      "cell_type": "code",
      "execution_count": null,
      "metadata": {
        "id": "2J-n34gdpLmk"
      },
      "outputs": [],
      "source": [
        ""
      ]
    }
  ],
  "metadata": {
    "colab": {
      "collapsed_sections": [],
      "name": "data_etl.ipynb",
      "provenance": [],
      "authorship_tag": "ABX9TyMnS38pphB1kgW6EvSZ2E7/",
      "include_colab_link": true
    },
    "kernelspec": {
      "display_name": "Python 3",
      "name": "python3"
    },
    "language_info": {
      "name": "python"
    }
  },
  "nbformat": 4,
  "nbformat_minor": 0
}