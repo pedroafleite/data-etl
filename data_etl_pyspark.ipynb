{
  "nbformat": 4,
  "nbformat_minor": 0,
  "metadata": {
    "colab": {
      "name": "data_etl_pyspark.ipynb",
      "provenance": [],
      "collapsed_sections": [],
      "authorship_tag": "ABX9TyOy9KRAnSIUwDXxfLAa5vJD",
      "include_colab_link": true
    },
    "kernelspec": {
      "name": "python3",
      "display_name": "Python 3"
    },
    "language_info": {
      "name": "python"
    }
  },
  "cells": [
    {
      "cell_type": "markdown",
      "metadata": {
        "id": "view-in-github",
        "colab_type": "text"
      },
      "source": [
        "<a href=\"https://colab.research.google.com/github/pedroafleite/data_etl/blob/main/data_etl_pyspark.ipynb\" target=\"_parent\"><img src=\"https://colab.research.google.com/assets/colab-badge.svg\" alt=\"Open In Colab\"/></a>"
      ]
    },
    {
      "cell_type": "code",
      "execution_count": 2,
      "metadata": {
        "colab": {
          "base_uri": "https://localhost:8080/"
        },
        "id": "2o_mQtQraDGT",
        "outputId": "e9d872bc-44df-46b2-9f37-d4fa92d5a462"
      },
      "outputs": [
        {
          "output_type": "stream",
          "name": "stdout",
          "text": [
            "Collecting pyspark\n",
            "  Downloading pyspark-3.2.1.tar.gz (281.4 MB)\n",
            "\u001b[K     |████████████████████████████████| 281.4 MB 36 kB/s \n",
            "\u001b[?25hCollecting py4j==0.10.9.3\n",
            "  Downloading py4j-0.10.9.3-py2.py3-none-any.whl (198 kB)\n",
            "\u001b[K     |████████████████████████████████| 198 kB 50.2 MB/s \n",
            "\u001b[?25hBuilding wheels for collected packages: pyspark\n",
            "  Building wheel for pyspark (setup.py) ... \u001b[?25l\u001b[?25hdone\n",
            "  Created wheel for pyspark: filename=pyspark-3.2.1-py2.py3-none-any.whl size=281853642 sha256=bb91adee1cb59c268f4c73db8502e5ad859d882a09d77a7c9e0d1d34f919f64f\n",
            "  Stored in directory: /root/.cache/pip/wheels/9f/f5/07/7cd8017084dce4e93e84e92efd1e1d5334db05f2e83bcef74f\n",
            "Successfully built pyspark\n",
            "Installing collected packages: py4j, pyspark\n",
            "Successfully installed py4j-0.10.9.3 pyspark-3.2.1\n",
            "Mounted at /content/drive\n"
          ]
        }
      ],
      "source": [
        "!pip install pyspark\n",
        "\n",
        "from google.colab import drive\n",
        "drive.mount('/content/drive')"
      ]
    },
    {
      "cell_type": "code",
      "source": [
        "import pandas as pd\n",
        "from pyspark.sql import SparkSession\n",
        "import json\n",
        "\n",
        "from pyspark.sql.types import StructType, StructField, ArrayType\n",
        "from pyspark.sql.types import StringType, DoubleType, BooleanType\n",
        "\n",
        "from pyspark.sql.functions import *"
      ],
      "metadata": {
        "id": "Q767T_GUaLKc"
      },
      "execution_count": 3,
      "outputs": []
    },
    {
      "cell_type": "code",
      "source": [
        "spark = SparkSession.builder.getOrCreate()"
      ],
      "metadata": {
        "id": "35-fkzhmaLRj"
      },
      "execution_count": 4,
      "outputs": []
    },
    {
      "cell_type": "code",
      "source": [
        "schema_infomix = StructType([\n",
        "    StructField(\"cnpj\", StringType(), True),\n",
        "    StructField(\"gtin\", StringType(), True),\n",
        "    StructField(\"category\", StringType(), True)\n",
        "])"
      ],
      "metadata": {
        "id": "YmDJEHUeHTJe"
      },
      "execution_count": 5,
      "outputs": []
    },
    {
      "cell_type": "code",
      "source": [
        "infomix = spark.read.option(\"delimiter\", \"\\t\").csv(\n",
        "    \"/content/drive/MyDrive/Colab Notebooks/data_etl/data_etl_test/infomix.tsv\", \n",
        "    header=True, \n",
        "    mode=\"DROPMALFORMED\", \n",
        "    schema=schema_infomix\n",
        ")"
      ],
      "metadata": {
        "id": "5OMi0vd1aM3t"
      },
      "execution_count": 6,
      "outputs": []
    },
    {
      "cell_type": "code",
      "source": [
        "infomix.show()"
      ],
      "metadata": {
        "colab": {
          "base_uri": "https://localhost:8080/"
        },
        "id": "0T59ACNAHhbr",
        "outputId": "28a6b6ac-53ca-48af-ef6d-29de839d9dc4"
      },
      "execution_count": 7,
      "outputs": [
        {
          "output_type": "stream",
          "name": "stdout",
          "text": [
            "+--------------+--------------+--------------------+\n",
            "|          cnpj|          gtin|            category|\n",
            "+--------------+--------------+--------------------+\n",
            "|08540603000198|06890101502534|     massas e molhos|\n",
            "|71322150004408|07898605250417|            cervejas|\n",
            "|43235985000732|07896000724465|              cabelo|\n",
            "|47508411134004|07896102589122|conservas e enlat...|\n",
            "|47508411135833|07895000474646|          bomboniere|\n",
            "|09379531000101|05893202502558|     massas e molhos|\n",
            "|47508411135833|07891008188271|          bomboniere|\n",
            "|39346861026802|07891025112983|iogurtes e sobrem...|\n",
            "|47508411134004|07896262304368|          bomboniere|\n",
            "|41185455001501|07896085393488|               leite|\n",
            "|75315333008002|07896036095089|     massas e molhos|\n",
            "|06057223023112|07898909755533|  doces e sobremesas|\n",
            "|06057223023112|07896102503708|     massas e molhos|\n",
            "|75315333008002|07896038308057|               arroz|\n",
            "|06057223023112|07898027658112|  doces e sobremesas|\n",
            "|00063960023575|07896005277195|     massas e molhos|\n",
            "|09379531000101|07891149106332|            cervejas|\n",
            "|39346861026802|07897395020217|            cervejas|\n",
            "|75315333009246|07896036091333|     massas e molhos|\n",
            "|75315333008002|07891132019274|temperos e condim...|\n",
            "+--------------+--------------+--------------------+\n",
            "only showing top 20 rows\n",
            "\n"
          ]
        }
      ]
    },
    {
      "cell_type": "code",
      "source": [
        "schema_cnpj = StructType([\n",
        "    StructField(\"cnpj\", StringType(), True),\n",
        "    StructField(\"created_at\", StringType(), True),\n",
        "    StructField(\"id\", StringType(), True),\n",
        "    StructField(\"response\", StructType([\n",
        "      StructField(\"abertura\", StringType(), True),\n",
        "      StructField(\"atividade_principal\", ArrayType(StructType([\n",
        "        StructField(\"code\", StringType(), True),\n",
        "        StructField(\"text\", StringType(), True)                                                           \n",
        "      ])), True),\n",
        "      StructField(\"atividades_secundarias\", ArrayType(StructType([\n",
        "        StructField(\"code\", StringType(), True),\n",
        "        StructField(\"text\", StringType(), True)                                          \n",
        "      ])), True),\n",
        "      StructField(\"bairro\", StringType(), True),\n",
        "      StructField(\"billing\", StructType([\n",
        "        StructField(\"database\", BooleanType(), True),\n",
        "        StructField(\"free\", BooleanType(), True)                       \n",
        "      ]), True),\n",
        "      StructField(\"capital_social\", StringType(), True),\n",
        "      StructField(\"cep\", StringType(), True),\n",
        "      StructField(\"cnpj\", StringType(), True),\n",
        "      StructField(\"complemento\", StringType(), True),\n",
        "      StructField(\"data_situacao\", StringType(), True),\n",
        "      StructField(\"data_situacao_especial\", StringType(), True),\n",
        "      StructField(\"efr\", StringType(), True),\n",
        "      StructField(\"email\", StringType(), True),\n",
        "      StructField(\"fantasia\", StringType(), True),\n",
        "      StructField(\"google_place_id\", StringType(), True),\n",
        "      StructField(\"latitude\", StringType(), True),\n",
        "      StructField(\"logradouro\", StringType(), True),\n",
        "      StructField(\"longitude\", StringType(), True),\n",
        "      StructField(\"motivo_situacao\", StringType(), True),\n",
        "      StructField(\"municipio\", StringType(), True),\n",
        "      StructField(\"natureza_juridica\", StringType(), True),\n",
        "      StructField(\"nome\", StringType(), True),\n",
        "      StructField(\"numero\", StringType(), True),\n",
        "      StructField(\"qsa\", ArrayType(StructType([\n",
        "        StructField(\"nome\", StringType(), True),\n",
        "        StructField(\"qual\", StringType(), True)                                          \n",
        "      ])), True),\n",
        "      StructField(\"situacao\", StringType(), True),\n",
        "      StructField(\"situacao_especial\", StringType(), True),\n",
        "      StructField(\"status\", StringType(), True),\n",
        "      StructField(\"telefone\", StringType(), True),\n",
        "      StructField(\"tipo\", StringType(), True),\n",
        "      StructField(\"uf\", StringType(), True),\n",
        "      StructField(\"ultima_atualizacao\", StringType(), True)\n",
        "    ]), True)\n",
        "  ])"
      ],
      "metadata": {
        "id": "6bvm63JpHl1Z"
      },
      "execution_count": 8,
      "outputs": []
    },
    {
      "cell_type": "code",
      "source": [
        "df = spark.createDataFrame(schema=schema_cnpj, data={})"
      ],
      "metadata": {
        "id": "Xqu6LfeylltY"
      },
      "execution_count": 9,
      "outputs": []
    },
    {
      "cell_type": "code",
      "source": [
        "df.printSchema()"
      ],
      "metadata": {
        "colab": {
          "base_uri": "https://localhost:8080/"
        },
        "id": "eDy96aColTwW",
        "outputId": "48cb237d-57fe-45c9-b103-40c5e36f2468"
      },
      "execution_count": 10,
      "outputs": [
        {
          "output_type": "stream",
          "name": "stdout",
          "text": [
            "root\n",
            " |-- cnpj: string (nullable = true)\n",
            " |-- created_at: string (nullable = true)\n",
            " |-- id: string (nullable = true)\n",
            " |-- response: struct (nullable = true)\n",
            " |    |-- abertura: string (nullable = true)\n",
            " |    |-- atividade_principal: array (nullable = true)\n",
            " |    |    |-- element: struct (containsNull = true)\n",
            " |    |    |    |-- code: string (nullable = true)\n",
            " |    |    |    |-- text: string (nullable = true)\n",
            " |    |-- atividades_secundarias: array (nullable = true)\n",
            " |    |    |-- element: struct (containsNull = true)\n",
            " |    |    |    |-- code: string (nullable = true)\n",
            " |    |    |    |-- text: string (nullable = true)\n",
            " |    |-- bairro: string (nullable = true)\n",
            " |    |-- billing: struct (nullable = true)\n",
            " |    |    |-- database: boolean (nullable = true)\n",
            " |    |    |-- free: boolean (nullable = true)\n",
            " |    |-- capital_social: string (nullable = true)\n",
            " |    |-- cep: string (nullable = true)\n",
            " |    |-- cnpj: string (nullable = true)\n",
            " |    |-- complemento: string (nullable = true)\n",
            " |    |-- data_situacao: string (nullable = true)\n",
            " |    |-- data_situacao_especial: string (nullable = true)\n",
            " |    |-- efr: string (nullable = true)\n",
            " |    |-- email: string (nullable = true)\n",
            " |    |-- fantasia: string (nullable = true)\n",
            " |    |-- google_place_id: string (nullable = true)\n",
            " |    |-- latitude: string (nullable = true)\n",
            " |    |-- logradouro: string (nullable = true)\n",
            " |    |-- longitude: string (nullable = true)\n",
            " |    |-- motivo_situacao: string (nullable = true)\n",
            " |    |-- municipio: string (nullable = true)\n",
            " |    |-- natureza_juridica: string (nullable = true)\n",
            " |    |-- nome: string (nullable = true)\n",
            " |    |-- numero: string (nullable = true)\n",
            " |    |-- qsa: array (nullable = true)\n",
            " |    |    |-- element: struct (containsNull = true)\n",
            " |    |    |    |-- nome: string (nullable = true)\n",
            " |    |    |    |-- qual: string (nullable = true)\n",
            " |    |-- situacao: string (nullable = true)\n",
            " |    |-- situacao_especial: string (nullable = true)\n",
            " |    |-- status: string (nullable = true)\n",
            " |    |-- telefone: string (nullable = true)\n",
            " |    |-- tipo: string (nullable = true)\n",
            " |    |-- uf: string (nullable = true)\n",
            " |    |-- ultima_atualizacao: string (nullable = true)\n",
            "\n"
          ]
        }
      ]
    },
    {
      "cell_type": "code",
      "source": [
        "data = []\n",
        "with open(\"/content/drive/MyDrive/Colab Notebooks/data_etl/data_etl_test/cnpjs_receita_federal.jl\") as f:\n",
        "    for line in f:\n",
        "        data.append(json.loads(line))"
      ],
      "metadata": {
        "id": "O6NSLXeNX9-q"
      },
      "execution_count": 11,
      "outputs": []
    },
    {
      "cell_type": "code",
      "source": [
        "cnpj = spark.createDataFrame(\n",
        "    data=data,\n",
        "    schema=schema_cnpj\n",
        ")\n",
        "\n",
        "cnpj.show()"
      ],
      "metadata": {
        "colab": {
          "base_uri": "https://localhost:8080/"
        },
        "id": "ZAbbSQgfWPhC",
        "outputId": "e5dbd3c4-0ff9-4fd0-e42d-99be2466b7f6"
      },
      "execution_count": 12,
      "outputs": [
        {
          "output_type": "stream",
          "name": "stdout",
          "text": [
            "+--------------+-------------------+--------------------+--------------------+\n",
            "|          cnpj|         created_at|                  id|            response|\n",
            "+--------------+-------------------+--------------------+--------------------+\n",
            "|68093095000179|2018-10-19 21:36:11|99068e55-1018-47e...|{01/07/1992, [{10...|\n",
            "|13492669000190|2018-10-20 17:17:03|c475b934-eef1-488...|{17/03/2011, [{46...|\n",
            "|74683392000177|2018-11-21 08:21:30|e013ecef-c884-415...|{29/04/1994, [{47...|\n",
            "|12423658000195|2018-10-19 21:20:15|03bc0063-69d6-438...|{20/08/2010, [{10...|\n",
            "|00588458000103|2018-10-15 12:36:16|07e1f38f-cef6-49d...|{31/03/1995, [{10...|\n",
            "|61365557000110|2018-10-18 21:15:05|58dbdec7-2502-43e...|{29/07/1966, [{10...|\n",
            "|75315333008274|2018-09-26 10:02:18|17266223-0c0b-4d8...|{12/09/2008, [{47...|\n",
            "|33033028000184|2018-08-24 01:25:49|717e6f70-7058-49b...|{24/01/1973, [{82...|\n",
            "|04939545000119|2018-10-18 21:52:18|0c116d6a-1708-47a...|{04/03/2002, [{47...|\n",
            "|46842894000591|2018-10-19 22:08:45|6551306a-b8b8-471...|{30/04/2001, [{11...|\n",
            "|60879467000185|2018-10-18 19:08:17|9fca2b00-d425-4ca...|{15/07/1966, [{10...|\n",
            "|29737368003487|2018-08-24 01:50:23|d11d09eb-545d-4d0...|{18/06/2002, [{10...|\n",
            "|04869719000114|2018-10-20 02:24:59|27f6309c-da8b-4ee...|{18/01/2002, [{10...|\n",
            "|01097783000640|2018-11-20 09:38:57|473e0bc1-1141-41e...|{01/12/2006, [{45...|\n",
            "|08192116000181|2018-10-18 21:51:41|b4130de7-4968-43e...|{10/04/2006, [{10...|\n",
            "|07175867000127|2018-10-20 06:06:12|bd15be2e-1f0f-4a6...|{17/12/2004, [{10...|\n",
            "|05215210000110|2018-12-10 14:24:04|93dd5ec8-222e-429...|{06/08/2002, [{46...|\n",
            "|06940040000108|2018-08-24 04:08:26|cbf6322f-c8f3-473...|{23/08/2004, [{46...|\n",
            "|32223965000130|2018-12-17 03:45:04|2972871c-632b-499...|{11/12/2018, [{45...|\n",
            "|59557124000115|2018-08-24 04:02:09|ce8666cd-eccd-4a1...|{12/10/1988, [{20...|\n",
            "+--------------+-------------------+--------------------+--------------------+\n",
            "only showing top 20 rows\n",
            "\n"
          ]
        }
      ]
    },
    {
      "cell_type": "code",
      "source": [
        "df_cnpj = cnpj.select(\"cnpj\", \"response.nome\", \"response.municipio\", \"response.uf\")\n",
        "df_cnpj.show(truncate=False)"
      ],
      "metadata": {
        "colab": {
          "base_uri": "https://localhost:8080/"
        },
        "id": "YtlZGBcs7dr3",
        "outputId": "6ccf1eac-f662-4ee1-adca-9278b1fd704f"
      },
      "execution_count": 13,
      "outputs": [
        {
          "output_type": "stream",
          "name": "stdout",
          "text": [
            "+--------------+----------------------------------------------------------------------------+------------------------+---+\n",
            "|cnpj          |nome                                                                        |municipio               |uf |\n",
            "+--------------+----------------------------------------------------------------------------+------------------------+---+\n",
            "|68093095000179|FROOTY COMERCIO E INDUSTRIA DE ALIMENTOS S.A.                               |ATIBAIA                 |SP |\n",
            "|13492669000190|ESTRELLA DE GALICIA IMPORTACAO E COMERCIALIZACAO DE BEBIDAS E ALIMENTOS LTDA|SAO PAULO               |SP |\n",
            "|74683392000177|DROGARIA NOVA SABARA LTDA                                                   |SAO PAULO               |SP |\n",
            "|12423658000195|DJ INDUSTRIA E COMERCIO DE ALIMENTOS LTDA                                   |CARPINA                 |PE |\n",
            "|00588458000103|FUGINI ALIMENTOS LTDA                                                       |MONTE ALTO              |SP |\n",
            "|61365557000110|GONCALVES SALLES S A INDUSTRIA E COMERCIO                                   |SAO SEBASTIAO DO PARAISO|MG |\n",
            "|75315333008274|ATACADAO S.A.                                                               |JUAZEIRO DO NORTE       |CE |\n",
            "|33033028000184|MONDELEZ BRASIL LTDA                                                        |CURITIBA                |PR |\n",
            "|04939545000119|HELIO SOARES DE ARAUJO                                                      |ATIBAIA                 |SP |\n",
            "|46842894000591|CASA DI CONTI LTDA                                                          |CANDIDO MOTA            |SP |\n",
            "|60879467000185|PRODUTOS ALIMENTICIOS EXCELSA LTDA                                          |SAO PAULO               |SP |\n",
            "|29737368003487|MASTERFOODS BRASIL ALIMENTOS LTDA.                                          |GUARAREMA               |SP |\n",
            "|04869719000114|VITAO ALIMENTOS LTDA                                                        |CURITIBA                |PR |\n",
            "|01097783000640|BODIPASA BOMBAS DIESEL PAULISTA LTDA                                        |BELO HORIZONTE          |MG |\n",
            "|08192116000181|NATURAL ONE S.A.                                                            |SAO PAULO               |SP |\n",
            "|07175867000127|DOCE SABOR INDUSTRIA E COMERCIO DE PRODUTOS ALIMENTICIOS LTDA               |SAO PAULO               |SP |\n",
            "|05215210000110|A Z P R COMERCIO, IMPORTACAO E EXPORTACAO LTDA                              |CURITIBA                |PR |\n",
            "|06940040000108|BELLIZ INDUSTRIA, COMERCIO, IMPORTACAO E EXPORTACAO EIRELI                  |SERRA                   |ES |\n",
            "|32223965000130|OESTE PAULISTA COMERCIO DE PNEUS EIRELI                                     |RIBEIRAO DO PINHAL      |PR |\n",
            "|59557124000115|RECKITT BENCKISER ( BRASIL ) LTDA.                                          |SAO PAULO               |SP |\n",
            "+--------------+----------------------------------------------------------------------------+------------------------+---+\n",
            "only showing top 20 rows\n",
            "\n"
          ]
        }
      ]
    },
    {
      "cell_type": "code",
      "source": [
        "schema_descricoes = StructType([\n",
        "    StructField(\"id\", StringType(), True),\n",
        "    StructField(\"gtin\", StringType(), True),\n",
        "    StructField(\"description\", StringType(), True),\n",
        "    StructField(\"flag_infoprice\", StringType(), True)\n",
        "])"
      ],
      "metadata": {
        "id": "2hbGyY9W_SSW"
      },
      "execution_count": 14,
      "outputs": []
    },
    {
      "cell_type": "code",
      "source": [
        "descricoes = spark.read.option(\"delimiter\", \"\\t\").csv(\n",
        "    \"/content/drive/MyDrive/Colab Notebooks/data_etl/data_etl_test/descricoes_externas.tsv\", \n",
        "    header=True, \n",
        "    mode=\"DROPMALFORMED\", \n",
        "    schema=schema_descricoes\n",
        ")\n",
        "\n",
        "descricoes.show()"
      ],
      "metadata": {
        "colab": {
          "base_uri": "https://localhost:8080/"
        },
        "id": "nyqi8x9p_AQQ",
        "outputId": "12ad03ea-c146-46ea-8050-98622e02761d"
      },
      "execution_count": 15,
      "outputs": [
        {
          "output_type": "stream",
          "name": "stdout",
          "text": [
            "+-------+--------------+--------------------+--------------+\n",
            "|     id|          gtin|         description|flag_infoprice|\n",
            "+-------+--------------+--------------------+--------------+\n",
            "|2482686|07896512911933|SABONETE INFANTIL...|          true|\n",
            "|2482685|07896512911933|SAB GRANADO BEBE ...|         false|\n",
            "|2482684|07896512911933|SAB LIQ.GRAN.BEBE...|         false|\n",
            "|2482683|07896512911933|SAB GRANADO GLICL...|         false|\n",
            "|2482682|07896512911933|SAB BABY GRA LA 2...|         false|\n",
            "|2482681|07896512911933|SABONETE LIQ GRAN...|         false|\n",
            "|2057830|07896005286579|MACARRAO COM OVOS...|          true|\n",
            "|2057829|07896005286579|M.D.BENTA ESPAGUE...|         false|\n",
            "|2057828|07896005286579|MAC ESPAG DONA BE...|         false|\n",
            "|2057827|07896005286579|ESPAGUETE DONA BE...|         false|\n",
            "|2057826|07896005286579|MAC ESP C OVOS DO...|         false|\n",
            "|2057825|07896005286579|MAC D.BENTA C/OVO...|         false|\n",
            "|3133507|07898142855823|CHOCOLATE BOMBOM ...|          true|\n",
            "|3133506|07898142855823|CHOC ARCOR BOMBON...|         false|\n",
            "|3133505|07898142855823|B.BOM ARCOR SORTI...|         false|\n",
            "|3133504|07898142855823| ARCOR BOMBOM 200 GR|         false|\n",
            "|3133503|07898142855823|BOMB ARCOR 171G S...|         false|\n",
            "|3133502|07898142855823|       BOMBOM 200 GR|         false|\n",
            "|2236818|07896115703669|SH COND 300ML PHI...|          true|\n",
            "|2236817|07896115703669|    KIT TRANSFORMERS|         false|\n",
            "+-------+--------------+--------------------+--------------+\n",
            "only showing top 20 rows\n",
            "\n"
          ]
        }
      ]
    },
    {
      "cell_type": "code",
      "source": [
        "schema_cosmos = StructType([\n",
        "    StructField(\"created_at\", StringType(), True),\n",
        "    StructField(\"gtin\", StringType(), True),\n",
        "    StructField(\"id\", StringType(), True),\n",
        "    StructField(\"response\", StructType([\n",
        "      StructField(\"autited\", StringType(), True),\n",
        "      StructField(\"brand\", StringType(), True),\n",
        "      StructField(\"description\", StringType(), True),\n",
        "      StructField(\"gcp\", StructType([\n",
        "        StructField(\"code\", StringType(), True),\n",
        "        StructField(\"description\", StringType(), True)                     \n",
        "      ]), True),\n",
        "      StructField(\"gtin\", StringType(), True),\n",
        "      StructField(\"image\", StringType(), True),\n",
        "      StructField(\"ncm\", StructType([\n",
        "        StructField(\"code\", StringType(), True),\n",
        "        StructField(\"description\", StringType(), True)                     \n",
        "      ]), True),\n",
        "      StructField(\"status\", StringType(), True),\n",
        "      StructField(\"units\", ArrayType(StructType([\n",
        "        StructField(\"gtin\", StringType(), True),\n",
        "        StructField(\"packing_size\", StringType(), True),\n",
        "        StructField(\"type\", StringType(), True)                                                        \n",
        "      ])), True)\n",
        "    ]), True)\n",
        "  ])"
      ],
      "metadata": {
        "id": "ExSr1wOQBYiP"
      },
      "execution_count": 16,
      "outputs": []
    },
    {
      "cell_type": "code",
      "source": [
        "data_cosmos = []\n",
        "with open(\"/content/drive/MyDrive/Colab Notebooks/data_etl/data_etl_test/cosmos.jl\") as f:\n",
        "    for line in f:\n",
        "        data_cosmos.append(json.loads(line))"
      ],
      "metadata": {
        "id": "W_Q7TGT_A-Bg"
      },
      "execution_count": 17,
      "outputs": []
    },
    {
      "cell_type": "code",
      "source": [
        "cosmos = spark.createDataFrame(\n",
        "    data=data_cosmos,\n",
        "    schema=schema_cosmos\n",
        ")\n",
        "\n",
        "cosmos.show()"
      ],
      "metadata": {
        "colab": {
          "base_uri": "https://localhost:8080/"
        },
        "id": "7rZDHIN1BRp7",
        "outputId": "7c67ee58-edb3-43c2-abd7-31d3ab3c9d3b"
      },
      "execution_count": 18,
      "outputs": [
        {
          "output_type": "stream",
          "name": "stdout",
          "text": [
            "+-------------------+--------------+--------------------+--------------------+\n",
            "|         created_at|          gtin|                  id|            response|\n",
            "+-------------------+--------------+--------------------+--------------------+\n",
            "|2018-10-22 19:24:28|07896040700276|16bde255-988c-466...|{, null, LAVA ROU...|\n",
            "|2018-10-20 00:37:14|00000078909434|96f61c2b-5057-439...|{AUDITADO, FERRER...|\n",
            "|2018-10-25 04:44:33|07898917945100|8ee42cd3-4200-45d...|{null, null, null...|\n",
            "|2018-10-23 05:23:08|27702018072396|bda1d82f-cfad-482...|{null, null, null...|\n",
            "|2019-02-07 21:53:39|07896005279595|427b4261-d73d-4c1...|{null, null, null...|\n",
            "|2018-10-22 19:32:16|07896221600036|826540b0-f18e-449...|{NÃO AUDITADO, nu...|\n",
            "|2018-10-21 16:09:29|07891025113157|5a1bf587-0362-468...|{null, null, null...|\n",
            "|2018-10-21 15:25:41|07896259412885|286a0add-c333-4b2...|{null, null, null...|\n",
            "|2018-10-21 15:24:02|07891150057937|097235d0-51e5-4c8...|{null, null, null...|\n",
            "|2018-10-23 03:08:26|00891454037366|629e26c3-2c08-40f...|{null, null, null...|\n",
            "|2018-10-21 01:40:18|07891150038554|a7dac9b3-ba4e-44e...|{AUDITADO, CIF, R...|\n",
            "|2018-11-06 00:16:35|07500435125772|9aa386cc-41b2-477...|{null, null, null...|\n",
            "|2018-10-23 04:00:58|08076809571944|d39d60fe-bc56-4f9...|{null, null, null...|\n",
            "|2019-02-07 21:57:05|04896240121041|7ee31711-a6df-430...|{null, null, null...|\n",
            "|2018-10-21 15:22:33|07891080402166|9b5956d2-8af8-414...|{AUDITADO, null, ...|\n",
            "|2018-10-21 16:22:52|07891150060722|997a20e4-0c7b-47a...|{null, null, null...|\n",
            "|2018-10-21 01:26:00|08480017017840|ec89658f-e4f5-42b...|{NÃO AUDITADO, nu...|\n",
            "|2018-10-22 23:05:25|07898525450072|3ec0d126-18c3-40e...|{null, null, null...|\n",
            "|2018-10-21 01:28:11|07891050002747|ecbe8ab3-3984-4ea...|{null, null, null...|\n",
            "|2018-10-20 17:50:46|07896108300226|dc27b32b-e6d1-430...|{AUDITADO, REGINA...|\n",
            "+-------------------+--------------+--------------------+--------------------+\n",
            "only showing top 20 rows\n",
            "\n"
          ]
        }
      ]
    },
    {
      "cell_type": "code",
      "source": [
        "df_cosmos = cosmos.select(\"gtin\", \"response.description\")\n",
        "df_cosmos = df_cosmos.withColumnRenamed('description', 'description_cosmos')\n",
        "df_cosmos.show()"
      ],
      "metadata": {
        "colab": {
          "base_uri": "https://localhost:8080/"
        },
        "id": "kjCLloyUFl37",
        "outputId": "9f513620-943f-43bf-9469-c798a3853673"
      },
      "execution_count": 19,
      "outputs": [
        {
          "output_type": "stream",
          "name": "stdout",
          "text": [
            "+--------------+--------------------+\n",
            "|          gtin|  description_cosmos|\n",
            "+--------------+--------------------+\n",
            "|07896040700276|LAVA ROUPAS COQUE...|\n",
            "|00000078909434|BOMBOM FERRERO RO...|\n",
            "|07898917945100|                null|\n",
            "|27702018072396|                null|\n",
            "|07896005279595|                null|\n",
            "|07896221600036|AGUA SANITARIA DR...|\n",
            "|07891025113157|                null|\n",
            "|07896259412885|                null|\n",
            "|07891150057937|                null|\n",
            "|00891454037366|                null|\n",
            "|07891150038554|REFIL LIMPADOR CI...|\n",
            "|07500435125772|                null|\n",
            "|08076809571944|                null|\n",
            "|04896240121041|                null|\n",
            "|07891080402166|     MARG PRIMOR 3KG|\n",
            "|07891150060722|                null|\n",
            "|08480017017840|RACAO DIA BIFINHO...|\n",
            "|07898525450072|                null|\n",
            "|07891050002747|                null|\n",
            "|07896108300226|VINAGRE REGINA 75...|\n",
            "+--------------+--------------------+\n",
            "only showing top 20 rows\n",
            "\n"
          ]
        }
      ]
    },
    {
      "cell_type": "code",
      "source": [
        "schema_gs1 = StructType([\n",
        "    StructField(\"gtin\", StringType(), True),\n",
        "    StructField(\"response\", StructType([\n",
        "      StructField(\"status\", StringType(), True)                              \n",
        "    ]), True)\n",
        "  ])"
      ],
      "metadata": {
        "id": "Gg8UHMI36qXP"
      },
      "execution_count": 20,
      "outputs": []
    },
    {
      "cell_type": "code",
      "source": [
        "data_gs1 = []\n",
        "with open(\"/content/drive/MyDrive/Colab Notebooks/data_etl/data_etl_test/gs1.jl\") as f:\n",
        "    for line in f:\n",
        "        data_gs1.append(json.loads(line))"
      ],
      "metadata": {
        "id": "rlINldkt1mgR"
      },
      "execution_count": 21,
      "outputs": []
    },
    {
      "cell_type": "code",
      "source": [
        "gs1 = spark.createDataFrame(\n",
        "    data=data_gs1,\n",
        "    schema=schema_gs1\n",
        ")\n",
        "\n",
        "\n",
        "gs1.select(\"gtin\", \"response.status\").show()"
      ],
      "metadata": {
        "colab": {
          "base_uri": "https://localhost:8080/"
        },
        "id": "qKs4nodWCNfx",
        "outputId": "6f04a329-3501-4b17-c2d5-6761aa447421"
      },
      "execution_count": 23,
      "outputs": [
        {
          "output_type": "stream",
          "name": "stdout",
          "text": [
            "+--------------+------+\n",
            "|          gtin|status|\n",
            "+--------------+------+\n",
            "|07891000258491|    OK|\n",
            "|07898142863118|    OK|\n",
            "|07896005213018|    OK|\n",
            "|08008245003420|    OK|\n",
            "|07898043230798|    OK|\n",
            "|07891000107508|    OK|\n",
            "|07898292888436|    OK|\n",
            "|07896051115014|    OK|\n",
            "|07896281700745|    OK|\n",
            "|07790070225580|    OK|\n",
            "|07896037916338|    OK|\n",
            "|07898943163110|    OK|\n",
            "|05000299225028|    OK|\n",
            "|07895800412794|    OK|\n",
            "|07506295369523|    OK|\n",
            "|07891132001019|    OK|\n",
            "|07896022201746|    OK|\n",
            "|07891203063359|    OK|\n",
            "|07891737243456|    OK|\n",
            "|07898403780062|    OK|\n",
            "+--------------+------+\n",
            "only showing top 20 rows\n",
            "\n"
          ]
        }
      ]
    },
    {
      "cell_type": "code",
      "source": [
        "df = infomix.join(df_cnpj, infomix['cnpj'] == df_cnpj['cnpj'], \"inner\").drop(df_cnpj['cnpj'])\\\n",
        "  .join(descricoes, infomix['gtin'] == descricoes['gtin'], \"inner\").drop(descricoes['gtin'])\\\n",
        "  .join(df_cosmos, infomix['gtin'] == df_cosmos['gtin'], \"inner\").drop(df_cosmos['gtin'])\\\n",
        "  .join(gs1, infomix['gtin'] == gs1['gtin'], \"inner\").drop(gs1['gtin'])\n",
        "\n",
        "# validacao consiste em verificar se o status na tabela gs1 está OK\n",
        "df = df.filter(df['response.status'] == \"OK\")\n",
        "df = df.dropDuplicates([\"cnpj\", \"gtin\"]) # passei um dropduplicates aqui, pois imagino que não haverá problemas. \n",
        "df = df.select(\"cnpj\", \"gtin\", \"nome\", \"municipio\", \"uf\", coalesce(df['description'],df['description_cosmos']), \"category\")\n",
        "df = df.withColumnRenamed('coalesce(description, description_cosmos)', 'description')\n",
        "df.show()"
      ],
      "metadata": {
        "colab": {
          "base_uri": "https://localhost:8080/"
        },
        "id": "yzBKltnYsCH7",
        "outputId": "d8f74503-8726-40b2-901f-f895170e88f3"
      },
      "execution_count": 24,
      "outputs": [
        {
          "output_type": "stream",
          "name": "stdout",
          "text": [
            "+--------------+--------------+--------------------+--------------------+---+--------------------+--------------------+\n",
            "|          cnpj|          gtin|                nome|           municipio| uf|         description|            category|\n",
            "+--------------+--------------+--------------------+--------------------+---+--------------------+--------------------+\n",
            "|00063960005917|00000078905320|WAL MART BRASIL LTDA|SAO JOSE DO RIO P...| SP|CERVEJA SERRAMALT...|            cervejas|\n",
            "|00063960005917|00000078905351|WAL MART BRASIL LTDA|SAO JOSE DO RIO P...| SP|CERVEJA ANTARTICA...|            cervejas|\n",
            "|00063960005917|00084380957345|WAL MART BRASIL LTDA|SAO JOSE DO RIO P...| SP|     GELE ST.STRA 28|  doces e sobremesas|\n",
            "|00063960005917|00084380957543|WAL MART BRASIL LTDA|SAO JOSE DO RIO P...| SP|ST DALFOUR GELEIA...|  doces e sobremesas|\n",
            "|00063960005917|03045320518757|WAL MART BRASIL LTDA|SAO JOSE DO RIO P...| SP|GELEIA FRA BONNE ...|  doces e sobremesas|\n",
            "|00063960005917|04006894111804|WAL MART BRASIL LTDA|SAO JOSE DO RIO P...| SP|PRETZEL LAMBERTZ ...|bolos, biscoitos ...|\n",
            "|00063960005917|04072700001188|WAL MART BRASIL LTDA|SAO JOSE DO RIO P...| SP|     CERV F.DUNKEL 5|            cervejas|\n",
            "|00063960005917|07622010002060|WAL MART BRASIL LTDA|SAO JOSE DO RIO P...| SP|BISC C SOCIAL MAN...|bolos, biscoitos ...|\n",
            "|00063960005917|07622210641632|WAL MART BRASIL LTDA|SAO JOSE DO RIO P...| SP|BIS CLUB SOCIAL 1...|bolos, biscoitos ...|\n",
            "|00063960005917|07622210661661|WAL MART BRASIL LTDA|SAO JOSE DO RIO P...| SP|BISC CLUB SOCIALR...|bolos, biscoitos ...|\n",
            "|00063960005917|07622210661852|WAL MART BRASIL LTDA|SAO JOSE DO RIO P...| SP|  CEREAL BELVITA 75G|bolos, biscoitos ...|\n",
            "|00063960005917|07622210754813|WAL MART BRASIL LTDA|SAO JOSE DO RIO P...| SP|BISC LACTA COOKIE...|bolos, biscoitos ...|\n",
            "|00063960005917|07622210880024|WAL MART BRASIL LTDA|SAO JOSE DO RIO P...| SP|BISCOITO SALG ALH...|bolos, biscoitos ...|\n",
            "|00063960005917|07622300172893|WAL MART BRASIL LTDA|SAO JOSE DO RIO P...| SP| GELAT ROYAL ZER 12G|  doces e sobremesas|\n",
            "|00063960005917|07622300172947|WAL MART BRASIL LTDA|SAO JOSE DO RIO P...| SP|GELAT ZERO ROYAL ...|  doces e sobremesas|\n",
            "|00063960005917|07622300172992|WAL MART BRASIL LTDA|SAO JOSE DO RIO P...| SP|GELAT ROYAL 12G ZERO|  doces e sobremesas|\n",
            "|00063960005917|07622300741297|WAL MART BRASIL LTDA|SAO JOSE DO RIO P...| SP|BISC TRAKINAS CB143G|bolos, biscoitos ...|\n",
            "|00063960005917|07622300837358|WAL MART BRASIL LTDA|SAO JOSE DO RIO P...| SP|BISC COOKIES CHOC...|bolos, biscoitos ...|\n",
            "|00063960005917|07622300837389|WAL MART BRASIL LTDA|SAO JOSE DO RIO P...| SP|BISC NABISCO CHOC...|bolos, biscoitos ...|\n",
            "|00063960005917|07622300859817|WAL MART BRASIL LTDA|SAO JOSE DO RIO P...| SP|GELATINA EM PO MO...|  doces e sobremesas|\n",
            "+--------------+--------------+--------------------+--------------------+---+--------------------+--------------------+\n",
            "only showing top 20 rows\n",
            "\n"
          ]
        }
      ]
    },
    {
      "cell_type": "code",
      "source": [
        "df.write.parquet(\"/content/drive/MyDrive/Colab Notebooks/data_etl/output/df.parquet\")"
      ],
      "metadata": {
        "id": "Sa1--iiMCo8v"
      },
      "execution_count": 26,
      "outputs": []
    }
  ]
}