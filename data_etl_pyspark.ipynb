{
  "nbformat": 4,
  "nbformat_minor": 0,
  "metadata": {
    "colab": {
      "name": "data_etl_pyspark.ipynb",
      "provenance": [],
      "collapsed_sections": [],
      "authorship_tag": "ABX9TyPik64gMvx367BnBvv8kwKo",
      "include_colab_link": true
    },
    "kernelspec": {
      "name": "python3",
      "display_name": "Python 3"
    },
    "language_info": {
      "name": "python"
    }
  },
  "cells": [
    {
      "cell_type": "markdown",
      "metadata": {
        "id": "view-in-github",
        "colab_type": "text"
      },
      "source": [
        "<a href=\"https://colab.research.google.com/github/pedroafleite/data_etl/blob/main/data_etl_pyspark.ipynb\" target=\"_parent\"><img src=\"https://colab.research.google.com/assets/colab-badge.svg\" alt=\"Open In Colab\"/></a>"
      ]
    },
    {
      "cell_type": "code",
      "execution_count": 1,
      "metadata": {
        "colab": {
          "base_uri": "https://localhost:8080/"
        },
        "id": "2o_mQtQraDGT",
        "outputId": "1d434fab-5a3c-455f-bdf6-d22f4a852f2e"
      },
      "outputs": [
        {
          "output_type": "stream",
          "name": "stdout",
          "text": [
            "Collecting pyspark\n",
            "  Downloading pyspark-3.2.1.tar.gz (281.4 MB)\n",
            "\u001b[K     |████████████████████████████████| 281.4 MB 35 kB/s \n",
            "\u001b[?25hCollecting py4j==0.10.9.3\n",
            "  Downloading py4j-0.10.9.3-py2.py3-none-any.whl (198 kB)\n",
            "\u001b[K     |████████████████████████████████| 198 kB 48.3 MB/s \n",
            "\u001b[?25hBuilding wheels for collected packages: pyspark\n",
            "  Building wheel for pyspark (setup.py) ... \u001b[?25l\u001b[?25hdone\n",
            "  Created wheel for pyspark: filename=pyspark-3.2.1-py2.py3-none-any.whl size=281853642 sha256=d64d32366ac488863fb25ab928fff38c72b00e89171c55b34488c0d1c79ba496\n",
            "  Stored in directory: /root/.cache/pip/wheels/9f/f5/07/7cd8017084dce4e93e84e92efd1e1d5334db05f2e83bcef74f\n",
            "Successfully built pyspark\n",
            "Installing collected packages: py4j, pyspark\n",
            "Successfully installed py4j-0.10.9.3 pyspark-3.2.1\n",
            "Mounted at /content/drive\n"
          ]
        }
      ],
      "source": [
        "!pip install pyspark\n",
        "\n",
        "from google.colab import drive\n",
        "drive.mount('/content/drive')"
      ]
    },
    {
      "cell_type": "code",
      "source": [
        "!pip install flatten_json"
      ],
      "metadata": {
        "colab": {
          "base_uri": "https://localhost:8080/"
        },
        "id": "UKKTnmyMF0cv",
        "outputId": "67a8e802-7861-4929-c5dd-2c3fded5d4bf"
      },
      "execution_count": 4,
      "outputs": [
        {
          "output_type": "stream",
          "name": "stdout",
          "text": [
            "Collecting flatten_json\n",
            "  Downloading flatten_json-0.1.13.tar.gz (11 kB)\n",
            "Requirement already satisfied: six in /usr/local/lib/python3.7/dist-packages (from flatten_json) (1.15.0)\n",
            "Building wheels for collected packages: flatten-json\n",
            "  Building wheel for flatten-json (setup.py) ... \u001b[?25l\u001b[?25hdone\n",
            "  Created wheel for flatten-json: filename=flatten_json-0.1.13-py3-none-any.whl size=7979 sha256=719599d97d998ffcde728a3c42e00dfa825c675a70bdbf9839914b61d524b796\n",
            "  Stored in directory: /root/.cache/pip/wheels/e6/b3/2a/beb2ceb72d11bf335f9c2f87aae26981f6744f3fc885cde665\n",
            "Successfully built flatten-json\n",
            "Installing collected packages: flatten-json\n",
            "Successfully installed flatten-json-0.1.13\n"
          ]
        }
      ]
    },
    {
      "cell_type": "code",
      "source": [
        "import pandas as pd\n",
        "from pyspark.sql import SparkSession\n",
        "import pyspark\n",
        "import json\n",
        "from flatten_json import flatten\n",
        "\n",
        "from pyspark.sql.types import StructType, StructField, ArrayType\n",
        "from pyspark.sql.types import StringType, DoubleType, BooleanType\n",
        "\n",
        "from pyspark.sql import Row"
      ],
      "metadata": {
        "id": "Q767T_GUaLKc"
      },
      "execution_count": 175,
      "outputs": []
    },
    {
      "cell_type": "code",
      "source": [
        "spark = SparkSession.builder.getOrCreate()"
      ],
      "metadata": {
        "id": "35-fkzhmaLRj"
      },
      "execution_count": 3,
      "outputs": []
    },
    {
      "cell_type": "code",
      "source": [
        "schema_infomix = StructType([\n",
        "    StructField(\"cnpj\", StringType(), True),\n",
        "    StructField(\"gtin\", StringType(), True),\n",
        "    StructField(\"category\", StringType(), True)\n",
        "])"
      ],
      "metadata": {
        "id": "YmDJEHUeHTJe"
      },
      "execution_count": 23,
      "outputs": []
    },
    {
      "cell_type": "code",
      "source": [
        "infomix = spark.read.option(\"delimiter\", \"\\t\").csv(\n",
        "    \"/content/drive/MyDrive/Colab Notebooks/data_etl/data_etl_test/infomix.tsv\", \n",
        "    header=True, \n",
        "    mode=\"DROPMALFORMED\", \n",
        "    schema=schema_infomix\n",
        ")"
      ],
      "metadata": {
        "id": "5OMi0vd1aM3t"
      },
      "execution_count": 24,
      "outputs": []
    },
    {
      "cell_type": "code",
      "source": [
        "infomix.show()"
      ],
      "metadata": {
        "colab": {
          "base_uri": "https://localhost:8080/"
        },
        "id": "0T59ACNAHhbr",
        "outputId": "0e9045d5-8cad-4897-9199-90b695a5f19c"
      },
      "execution_count": 25,
      "outputs": [
        {
          "output_type": "stream",
          "name": "stdout",
          "text": [
            "+--------------+--------------+--------------------+\n",
            "|          cnpj|          gtin|            category|\n",
            "+--------------+--------------+--------------------+\n",
            "|08540603000198|06890101502534|     massas e molhos|\n",
            "|71322150004408|07898605250417|            cervejas|\n",
            "|43235985000732|07896000724465|              cabelo|\n",
            "|47508411134004|07896102589122|conservas e enlat...|\n",
            "|47508411135833|07895000474646|          bomboniere|\n",
            "|09379531000101|05893202502558|     massas e molhos|\n",
            "|47508411135833|07891008188271|          bomboniere|\n",
            "|39346861026802|07891025112983|iogurtes e sobrem...|\n",
            "|47508411134004|07896262304368|          bomboniere|\n",
            "|41185455001501|07896085393488|               leite|\n",
            "|75315333008002|07896036095089|     massas e molhos|\n",
            "|06057223023112|07898909755533|  doces e sobremesas|\n",
            "|06057223023112|07896102503708|     massas e molhos|\n",
            "|75315333008002|07896038308057|               arroz|\n",
            "|06057223023112|07898027658112|  doces e sobremesas|\n",
            "|00063960023575|07896005277195|     massas e molhos|\n",
            "|09379531000101|07891149106332|            cervejas|\n",
            "|39346861026802|07897395020217|            cervejas|\n",
            "|75315333009246|07896036091333|     massas e molhos|\n",
            "|75315333008002|07891132019274|temperos e condim...|\n",
            "+--------------+--------------+--------------------+\n",
            "only showing top 20 rows\n",
            "\n"
          ]
        }
      ]
    },
    {
      "cell_type": "code",
      "source": [
        "schema_cnpj = StructType([\n",
        "    StructField(\"cnpj\", StringType(), True),\n",
        "    StructField(\"created_at\", StringType(), True),\n",
        "    StructField(\"id\", StringType(), True),\n",
        "    StructField(\"response\", StructType([\n",
        "      StructField(\"abertura\", StringType(), True),\n",
        "      StructField(\"atividade_principal\", ArrayType(StructType([\n",
        "        StructField(\"code\", StringType(), True),\n",
        "        StructField(\"text\", StringType(), True)                                                           \n",
        "      ])), True),\n",
        "      StructField(\"atividades_secundarias\", ArrayType(StructType([\n",
        "        StructField(\"code\", StringType(), True),\n",
        "        StructField(\"text\", StringType(), True)                                          \n",
        "      ])), True),\n",
        "      StructField(\"bairro\", StringType(), True),\n",
        "      StructField(\"billing\", StructType([\n",
        "        StructField(\"database\", BooleanType(), True),\n",
        "        StructField(\"free\", BooleanType(), True)                       \n",
        "      ]), True),\n",
        "      StructField(\"capital_social\", StringType(), True),\n",
        "      StructField(\"cep\", StringType(), True),\n",
        "      StructField(\"cnpj\", StringType(), True),\n",
        "      StructField(\"complemento\", StringType(), True),\n",
        "      StructField(\"data_situacao\", StringType(), True),\n",
        "      StructField(\"data_situacao_especial\", StringType(), True),\n",
        "      StructField(\"efr\", StringType(), True),\n",
        "      StructField(\"email\", StringType(), True),\n",
        "      StructField(\"fantasia\", StringType(), True),\n",
        "      StructField(\"google_place_id\", StringType(), True),\n",
        "      StructField(\"latitude\", StringType(), True),\n",
        "      StructField(\"logradouro\", StringType(), True),\n",
        "      StructField(\"longitude\", StringType(), True),\n",
        "      StructField(\"motivo_situacao\", StringType(), True),\n",
        "      StructField(\"municipio\", StringType(), True),\n",
        "      StructField(\"natureza_juridica\", StringType(), True),\n",
        "      StructField(\"nome\", StringType(), True),\n",
        "      StructField(\"numero\", StringType(), True),\n",
        "      StructField(\"qsa\", ArrayType(StructType([\n",
        "        StructField(\"nome\", StringType(), True),\n",
        "        StructField(\"qual\", StringType(), True)                                          \n",
        "      ])), True),\n",
        "      StructField(\"situacao\", StringType(), True),\n",
        "      StructField(\"situacao_especial\", StringType(), True),\n",
        "      StructField(\"status\", StringType(), True),\n",
        "      StructField(\"telefone\", StringType(), True),\n",
        "      StructField(\"tipo\", StringType(), True),\n",
        "      StructField(\"uf\", StringType(), True),\n",
        "      StructField(\"ultima_atualizacao\", StringType(), True)\n",
        "    ]), True)\n",
        "  ])"
      ],
      "metadata": {
        "id": "6bvm63JpHl1Z"
      },
      "execution_count": 186,
      "outputs": []
    },
    {
      "cell_type": "code",
      "source": [
        "df = spark.createDataFrame(schema=schema_cnpj, data={})"
      ],
      "metadata": {
        "id": "Xqu6LfeylltY"
      },
      "execution_count": 108,
      "outputs": []
    },
    {
      "cell_type": "code",
      "source": [
        "df.printSchema()"
      ],
      "metadata": {
        "colab": {
          "base_uri": "https://localhost:8080/"
        },
        "id": "eDy96aColTwW",
        "outputId": "51b78a74-1ab1-44e2-b660-94601091293b"
      },
      "execution_count": 109,
      "outputs": [
        {
          "output_type": "stream",
          "name": "stdout",
          "text": [
            "root\n",
            " |-- cnpj: string (nullable = true)\n",
            " |-- created_at: string (nullable = true)\n",
            " |-- id: string (nullable = true)\n",
            " |-- response: struct (nullable = true)\n",
            " |    |-- abertura: string (nullable = true)\n",
            " |    |-- atividade_principal: array (nullable = true)\n",
            " |    |    |-- element: struct (containsNull = true)\n",
            " |    |    |    |-- code: string (nullable = true)\n",
            " |    |    |    |-- text: string (nullable = true)\n",
            " |    |-- atividades_secundarias: array (nullable = true)\n",
            " |    |    |-- element: struct (containsNull = true)\n",
            " |    |    |    |-- code: string (nullable = true)\n",
            " |    |    |    |-- text: string (nullable = true)\n",
            " |    |-- bairro: string (nullable = true)\n",
            " |    |-- billing: struct (nullable = true)\n",
            " |    |    |-- database: boolean (nullable = true)\n",
            " |    |    |-- free: boolean (nullable = true)\n",
            " |    |-- capital_social: string (nullable = true)\n",
            " |    |-- cep: string (nullable = true)\n",
            " |    |-- cnpj: string (nullable = true)\n",
            " |    |-- complemento: string (nullable = true)\n",
            " |    |-- data_situacao: string (nullable = true)\n",
            " |    |-- data_situacao_especial: string (nullable = true)\n",
            " |    |-- efr: string (nullable = true)\n",
            " |    |-- email: string (nullable = true)\n",
            " |    |-- fantasia: string (nullable = true)\n",
            " |    |-- google_place_id: string (nullable = true)\n",
            " |    |-- latitude: double (nullable = true)\n",
            " |    |-- logradouro: string (nullable = true)\n",
            " |    |-- longitude: double (nullable = true)\n",
            " |    |-- motivo_situacao: string (nullable = true)\n",
            " |    |-- municipio: string (nullable = true)\n",
            " |    |-- natureza_juridica: string (nullable = true)\n",
            " |    |-- nome: string (nullable = true)\n",
            " |    |-- numero: string (nullable = true)\n",
            " |    |-- qsa: array (nullable = true)\n",
            " |    |    |-- element: struct (containsNull = true)\n",
            " |    |    |    |-- nome: string (nullable = true)\n",
            " |    |    |    |-- qual: string (nullable = true)\n",
            " |    |-- situacao: string (nullable = true)\n",
            " |    |-- situacao_especial: string (nullable = true)\n",
            " |    |-- status: string (nullable = true)\n",
            " |    |-- telefone: string (nullable = true)\n",
            " |    |-- tipo: string (nullable = true)\n",
            " |    |-- uf: string (nullable = true)\n",
            " |    |-- ultima_atualizacao: string (nullable = true)\n",
            "\n"
          ]
        }
      ]
    },
    {
      "cell_type": "code",
      "source": [
        "data[6]"
      ],
      "metadata": {
        "colab": {
          "base_uri": "https://localhost:8080/"
        },
        "id": "5FHIl5AmYDBl",
        "outputId": "8b39e87e-98a5-4476-e604-ba6497678d40"
      },
      "execution_count": 110,
      "outputs": [
        {
          "output_type": "execute_result",
          "data": {
            "text/plain": [
              "{'cnpj': '75315333008274',\n",
              " 'created_at': '2018-09-26 10:02:18',\n",
              " 'id': '17266223-0c0b-4d81-bd9f-e240523d9771',\n",
              " 'response': {'abertura': '12/09/2008',\n",
              "  'atividade_principal': [{'code': '47.11-3-01',\n",
              "    'text': 'Comércio varejista de mercadorias em geral, com predominância de produtos alimentícios - hipermercados'}],\n",
              "  'atividades_secundarias': [{'code': '52.12-5-00',\n",
              "    'text': 'Carga e descarga'}],\n",
              "  'bairro': 'SAO JOSE',\n",
              "  'billing': {'database': True, 'free': True},\n",
              "  'capital_social': '7609482817.90',\n",
              "  'cep': '63.024-015',\n",
              "  'cnpj': '75.315.333/0082-74',\n",
              "  'complemento': '',\n",
              "  'data_situacao': '12/09/2008',\n",
              "  'data_situacao_especial': '',\n",
              "  'efr': '',\n",
              "  'email': 'tributario@atacadao.com.br',\n",
              "  'extra': {},\n",
              "  'fantasia': 'ATACADAO',\n",
              "  'google_place_id': 'ChIJ9fcRsVuCoQcR-Gud6w_nm7A',\n",
              "  'latitude': -7.2292715,\n",
              "  'logradouro': 'AV PADRE CICERO',\n",
              "  'longitude': -39.3487502,\n",
              "  'motivo_situacao': '',\n",
              "  'municipio': 'JUAZEIRO DO NORTE',\n",
              "  'natureza_juridica': '204-6 - Sociedade Anônima Aberta',\n",
              "  'nome': 'ATACADAO S.A.',\n",
              "  'numero': '4385',\n",
              "  'qsa': [{'nome': 'JOSE ROBERTO MEISTER MUSSNICH', 'qual': '10-Diretor'},\n",
              "   {'nome': 'MARCO APARECIDO DE OLIVEIRA', 'qual': '10-Diretor'},\n",
              "   {'nome': 'SEBASTIEN DURCHON', 'qual': '10-Diretor'},\n",
              "   {'nome': 'ABILIO DOS SANTOS DINIZ',\n",
              "    'qual': '08-Conselheiro de Administração'},\n",
              "   {'nome': 'EDUARDO PONGRACZ ROSSI',\n",
              "    'qual': '08-Conselheiro de Administração'},\n",
              "   {'nome': 'FRANCK EMILE TASSAN', 'qual': '08-Conselheiro de Administração'},\n",
              "   {'nome': 'FRANCIS ANDRE MAUGER', 'qual': '08-Conselheiro de Administração'},\n",
              "   {'nome': 'JACQUES DOMINIQUE EHRMANN',\n",
              "    'qual': '08-Conselheiro de Administração'},\n",
              "   {'nome': 'NOEL FREDERIC GEORGES PRIOUX', 'qual': '16-Presidente'},\n",
              "   {'nome': 'MATTHIEU DOMINIQUE MARIE MALIGE',\n",
              "    'qual': '08-Conselheiro de Administração'}],\n",
              "  'situacao': 'ATIVA',\n",
              "  'situacao_especial': '',\n",
              "  'status': 'OK',\n",
              "  'telefone': '(11) 2967-8235 / (11) 2967-8447',\n",
              "  'tipo': 'FILIAL',\n",
              "  'uf': 'CE',\n",
              "  'ultima_atualizacao': '2018-09-10T09:32:09.622Z'}}"
            ]
          },
          "metadata": {},
          "execution_count": 110
        }
      ]
    },
    {
      "cell_type": "code",
      "source": [
        "import json\n",
        "\n",
        "data = []\n",
        "with open(\"/content/drive/MyDrive/Colab Notebooks/data_etl/data_etl_test/cnpjs_receita_federal.jl\") as f:\n",
        "    for line in f:\n",
        "        data.append(json.loads(line))"
      ],
      "metadata": {
        "id": "O6NSLXeNX9-q"
      },
      "execution_count": 50,
      "outputs": []
    },
    {
      "cell_type": "code",
      "source": [
        "sc = pyspark.SparkContext.getOrCreate()"
      ],
      "metadata": {
        "id": "3WKbx1iqpO80"
      },
      "execution_count": 158,
      "outputs": []
    },
    {
      "cell_type": "code",
      "source": [
        "cosmos_raw = pd.read_json('/content/drive/MyDrive/Colab Notebooks/data_etl/data_etl_test/cosmos.jl', lines=True)\n",
        "cosmos_json = json.loads(cosmos_raw.to_json(orient=\"records\"))\n",
        "cosmos_flat = (flatten(record, '.') for record in cosmos_json)\n",
        "myDf = spark.read.json([cosmos_flat])\n",
        "myDf.show(truncate=False)"
      ],
      "metadata": {
        "colab": {
          "base_uri": "https://localhost:8080/",
          "height": 823
        },
        "id": "IMeRpgAXv4Za",
        "outputId": "0ac228e4-9d2f-44ee-ab5e-fda170031833"
      },
      "execution_count": 176,
      "outputs": [
        {
          "output_type": "error",
          "ename": "Py4JJavaError",
          "evalue": "ignored",
          "traceback": [
            "\u001b[0;31m---------------------------------------------------------------------------\u001b[0m",
            "\u001b[0;31mPy4JJavaError\u001b[0m                             Traceback (most recent call last)",
            "\u001b[0;32m<ipython-input-176-8caa89e45fef>\u001b[0m in \u001b[0;36m<module>\u001b[0;34m()\u001b[0m\n\u001b[1;32m      2\u001b[0m \u001b[0mcosmos_json\u001b[0m \u001b[0;34m=\u001b[0m \u001b[0mjson\u001b[0m\u001b[0;34m.\u001b[0m\u001b[0mloads\u001b[0m\u001b[0;34m(\u001b[0m\u001b[0mcosmos_raw\u001b[0m\u001b[0;34m.\u001b[0m\u001b[0mto_json\u001b[0m\u001b[0;34m(\u001b[0m\u001b[0morient\u001b[0m\u001b[0;34m=\u001b[0m\u001b[0;34m\"records\"\u001b[0m\u001b[0;34m)\u001b[0m\u001b[0;34m)\u001b[0m\u001b[0;34m\u001b[0m\u001b[0;34m\u001b[0m\u001b[0m\n\u001b[1;32m      3\u001b[0m \u001b[0mcosmos_flat\u001b[0m \u001b[0;34m=\u001b[0m \u001b[0;34m(\u001b[0m\u001b[0mflatten\u001b[0m\u001b[0;34m(\u001b[0m\u001b[0mrecord\u001b[0m\u001b[0;34m,\u001b[0m \u001b[0;34m'.'\u001b[0m\u001b[0;34m)\u001b[0m \u001b[0;32mfor\u001b[0m \u001b[0mrecord\u001b[0m \u001b[0;32min\u001b[0m \u001b[0mcosmos_json\u001b[0m\u001b[0;34m)\u001b[0m\u001b[0;34m\u001b[0m\u001b[0;34m\u001b[0m\u001b[0m\n\u001b[0;32m----> 4\u001b[0;31m \u001b[0mmyDf\u001b[0m \u001b[0;34m=\u001b[0m \u001b[0mspark\u001b[0m\u001b[0;34m.\u001b[0m\u001b[0mread\u001b[0m\u001b[0;34m.\u001b[0m\u001b[0mjson\u001b[0m\u001b[0;34m(\u001b[0m\u001b[0;34m[\u001b[0m\u001b[0mcosmos_flat\u001b[0m\u001b[0;34m]\u001b[0m\u001b[0;34m)\u001b[0m\u001b[0;34m\u001b[0m\u001b[0;34m\u001b[0m\u001b[0m\n\u001b[0m\u001b[1;32m      5\u001b[0m \u001b[0mmyDf\u001b[0m\u001b[0;34m.\u001b[0m\u001b[0mshow\u001b[0m\u001b[0;34m(\u001b[0m\u001b[0mtruncate\u001b[0m\u001b[0;34m=\u001b[0m\u001b[0;32mFalse\u001b[0m\u001b[0;34m)\u001b[0m\u001b[0;34m\u001b[0m\u001b[0;34m\u001b[0m\u001b[0m\n",
            "\u001b[0;32m/usr/local/lib/python3.7/dist-packages/pyspark/sql/readwriter.py\u001b[0m in \u001b[0;36mjson\u001b[0;34m(self, path, schema, primitivesAsString, prefersDecimal, allowComments, allowUnquotedFieldNames, allowSingleQuotes, allowNumericLeadingZero, allowBackslashEscapingAnyCharacter, mode, columnNameOfCorruptRecord, dateFormat, timestampFormat, multiLine, allowUnquotedControlChars, lineSep, samplingRatio, dropFieldIfAllNull, encoding, locale, pathGlobFilter, recursiveFileLookup, allowNonNumericNumbers, modifiedBefore, modifiedAfter)\u001b[0m\n\u001b[1;32m    227\u001b[0m             \u001b[0mpath\u001b[0m \u001b[0;34m=\u001b[0m \u001b[0;34m[\u001b[0m\u001b[0mpath\u001b[0m\u001b[0;34m]\u001b[0m\u001b[0;34m\u001b[0m\u001b[0;34m\u001b[0m\u001b[0m\n\u001b[1;32m    228\u001b[0m         \u001b[0;32mif\u001b[0m \u001b[0mtype\u001b[0m\u001b[0;34m(\u001b[0m\u001b[0mpath\u001b[0m\u001b[0;34m)\u001b[0m \u001b[0;34m==\u001b[0m \u001b[0mlist\u001b[0m\u001b[0;34m:\u001b[0m\u001b[0;34m\u001b[0m\u001b[0;34m\u001b[0m\u001b[0m\n\u001b[0;32m--> 229\u001b[0;31m             \u001b[0;32mreturn\u001b[0m \u001b[0mself\u001b[0m\u001b[0;34m.\u001b[0m\u001b[0m_df\u001b[0m\u001b[0;34m(\u001b[0m\u001b[0mself\u001b[0m\u001b[0;34m.\u001b[0m\u001b[0m_jreader\u001b[0m\u001b[0;34m.\u001b[0m\u001b[0mjson\u001b[0m\u001b[0;34m(\u001b[0m\u001b[0mself\u001b[0m\u001b[0;34m.\u001b[0m\u001b[0m_spark\u001b[0m\u001b[0;34m.\u001b[0m\u001b[0m_sc\u001b[0m\u001b[0;34m.\u001b[0m\u001b[0m_jvm\u001b[0m\u001b[0;34m.\u001b[0m\u001b[0mPythonUtils\u001b[0m\u001b[0;34m.\u001b[0m\u001b[0mtoSeq\u001b[0m\u001b[0;34m(\u001b[0m\u001b[0mpath\u001b[0m\u001b[0;34m)\u001b[0m\u001b[0;34m)\u001b[0m\u001b[0;34m)\u001b[0m\u001b[0;34m\u001b[0m\u001b[0;34m\u001b[0m\u001b[0m\n\u001b[0m\u001b[1;32m    230\u001b[0m         \u001b[0;32melif\u001b[0m \u001b[0misinstance\u001b[0m\u001b[0;34m(\u001b[0m\u001b[0mpath\u001b[0m\u001b[0;34m,\u001b[0m \u001b[0mRDD\u001b[0m\u001b[0;34m)\u001b[0m\u001b[0;34m:\u001b[0m\u001b[0;34m\u001b[0m\u001b[0;34m\u001b[0m\u001b[0m\n\u001b[1;32m    231\u001b[0m             \u001b[0;32mdef\u001b[0m \u001b[0mfunc\u001b[0m\u001b[0;34m(\u001b[0m\u001b[0miterator\u001b[0m\u001b[0;34m)\u001b[0m\u001b[0;34m:\u001b[0m\u001b[0;34m\u001b[0m\u001b[0;34m\u001b[0m\u001b[0m\n",
            "\u001b[0;32m/usr/local/lib/python3.7/dist-packages/py4j/java_gateway.py\u001b[0m in \u001b[0;36m__call__\u001b[0;34m(self, *args)\u001b[0m\n\u001b[1;32m   1320\u001b[0m         \u001b[0manswer\u001b[0m \u001b[0;34m=\u001b[0m \u001b[0mself\u001b[0m\u001b[0;34m.\u001b[0m\u001b[0mgateway_client\u001b[0m\u001b[0;34m.\u001b[0m\u001b[0msend_command\u001b[0m\u001b[0;34m(\u001b[0m\u001b[0mcommand\u001b[0m\u001b[0;34m)\u001b[0m\u001b[0;34m\u001b[0m\u001b[0;34m\u001b[0m\u001b[0m\n\u001b[1;32m   1321\u001b[0m         return_value = get_return_value(\n\u001b[0;32m-> 1322\u001b[0;31m             answer, self.gateway_client, self.target_id, self.name)\n\u001b[0m\u001b[1;32m   1323\u001b[0m \u001b[0;34m\u001b[0m\u001b[0m\n\u001b[1;32m   1324\u001b[0m         \u001b[0;32mfor\u001b[0m \u001b[0mtemp_arg\u001b[0m \u001b[0;32min\u001b[0m \u001b[0mtemp_args\u001b[0m\u001b[0;34m:\u001b[0m\u001b[0;34m\u001b[0m\u001b[0;34m\u001b[0m\u001b[0m\n",
            "\u001b[0;32m/usr/local/lib/python3.7/dist-packages/pyspark/sql/utils.py\u001b[0m in \u001b[0;36mdeco\u001b[0;34m(*a, **kw)\u001b[0m\n\u001b[1;32m    109\u001b[0m     \u001b[0;32mdef\u001b[0m \u001b[0mdeco\u001b[0m\u001b[0;34m(\u001b[0m\u001b[0;34m*\u001b[0m\u001b[0ma\u001b[0m\u001b[0;34m,\u001b[0m \u001b[0;34m**\u001b[0m\u001b[0mkw\u001b[0m\u001b[0;34m)\u001b[0m\u001b[0;34m:\u001b[0m\u001b[0;34m\u001b[0m\u001b[0;34m\u001b[0m\u001b[0m\n\u001b[1;32m    110\u001b[0m         \u001b[0;32mtry\u001b[0m\u001b[0;34m:\u001b[0m\u001b[0;34m\u001b[0m\u001b[0;34m\u001b[0m\u001b[0m\n\u001b[0;32m--> 111\u001b[0;31m             \u001b[0;32mreturn\u001b[0m \u001b[0mf\u001b[0m\u001b[0;34m(\u001b[0m\u001b[0;34m*\u001b[0m\u001b[0ma\u001b[0m\u001b[0;34m,\u001b[0m \u001b[0;34m**\u001b[0m\u001b[0mkw\u001b[0m\u001b[0;34m)\u001b[0m\u001b[0;34m\u001b[0m\u001b[0;34m\u001b[0m\u001b[0m\n\u001b[0m\u001b[1;32m    112\u001b[0m         \u001b[0;32mexcept\u001b[0m \u001b[0mpy4j\u001b[0m\u001b[0;34m.\u001b[0m\u001b[0mprotocol\u001b[0m\u001b[0;34m.\u001b[0m\u001b[0mPy4JJavaError\u001b[0m \u001b[0;32mas\u001b[0m \u001b[0me\u001b[0m\u001b[0;34m:\u001b[0m\u001b[0;34m\u001b[0m\u001b[0;34m\u001b[0m\u001b[0m\n\u001b[1;32m    113\u001b[0m             \u001b[0mconverted\u001b[0m \u001b[0;34m=\u001b[0m \u001b[0mconvert_exception\u001b[0m\u001b[0;34m(\u001b[0m\u001b[0me\u001b[0m\u001b[0;34m.\u001b[0m\u001b[0mjava_exception\u001b[0m\u001b[0;34m)\u001b[0m\u001b[0;34m\u001b[0m\u001b[0;34m\u001b[0m\u001b[0m\n",
            "\u001b[0;32m/usr/local/lib/python3.7/dist-packages/py4j/protocol.py\u001b[0m in \u001b[0;36mget_return_value\u001b[0;34m(answer, gateway_client, target_id, name)\u001b[0m\n\u001b[1;32m    326\u001b[0m                 raise Py4JJavaError(\n\u001b[1;32m    327\u001b[0m                     \u001b[0;34m\"An error occurred while calling {0}{1}{2}.\\n\"\u001b[0m\u001b[0;34m.\u001b[0m\u001b[0;34m\u001b[0m\u001b[0;34m\u001b[0m\u001b[0m\n\u001b[0;32m--> 328\u001b[0;31m                     format(target_id, \".\", name), value)\n\u001b[0m\u001b[1;32m    329\u001b[0m             \u001b[0;32melse\u001b[0m\u001b[0;34m:\u001b[0m\u001b[0;34m\u001b[0m\u001b[0;34m\u001b[0m\u001b[0m\n\u001b[1;32m    330\u001b[0m                 raise Py4JError(\n",
            "\u001b[0;31mPy4JJavaError\u001b[0m: An error occurred while calling o547.json.\n: java.lang.ClassCastException: class java.util.ArrayList cannot be cast to class java.lang.String (java.util.ArrayList and java.lang.String are in module java.base of loader 'bootstrap')\n\tat org.apache.spark.sql.internal.SessionState.$anonfun$newHadoopConfWithOptions$1(SessionState.scala:105)\n\tat org.apache.spark.sql.internal.SessionState.$anonfun$newHadoopConfWithOptions$1$adapted(SessionState.scala:105)\n\tat scala.collection.immutable.Map$Map1.foreach(Map.scala:193)\n\tat org.apache.spark.sql.internal.SessionState.newHadoopConfWithOptions(SessionState.scala:105)\n\tat org.apache.spark.sql.execution.datasources.DataSource.newHadoopConfiguration(DataSource.scala:116)\n\tat org.apache.spark.sql.execution.datasources.DataSource.resolveRelation(DataSource.scala:369)\n\tat org.apache.spark.sql.DataFrameReader.loadV1Source(DataFrameReader.scala:274)\n\tat org.apache.spark.sql.DataFrameReader.$anonfun$load$3(DataFrameReader.scala:245)\n\tat scala.Option.getOrElse(Option.scala:189)\n\tat org.apache.spark.sql.DataFrameReader.load(DataFrameReader.scala:245)\n\tat org.apache.spark.sql.DataFrameReader.json(DataFrameReader.scala:405)\n\tat jdk.internal.reflect.GeneratedMethodAccessor36.invoke(Unknown Source)\n\tat java.base/jdk.internal.reflect.DelegatingMethodAccessorImpl.invoke(DelegatingMethodAccessorImpl.java:43)\n\tat java.base/java.lang.reflect.Method.invoke(Method.java:566)\n\tat py4j.reflection.MethodInvoker.invoke(MethodInvoker.java:244)\n\tat py4j.reflection.ReflectionEngine.invoke(ReflectionEngine.java:357)\n\tat py4j.Gateway.invoke(Gateway.java:282)\n\tat py4j.commands.AbstractCommand.invokeMethod(AbstractCommand.java:132)\n\tat py4j.commands.CallCommand.execute(CallCommand.java:79)\n\tat py4j.ClientServerConnection.waitForCommands(ClientServerConnection.java:182)\n\tat py4j.ClientServerConnection.run(ClientServerConnection.java:106)\n\tat java.base/java.lang.Thread.run(Thread.java:829)\n"
          ]
        }
      ]
    },
    {
      "cell_type": "code",
      "source": [
        "cosmos_flat"
      ],
      "metadata": {
        "colab": {
          "base_uri": "https://localhost:8080/"
        },
        "id": "85mXnAWszugc",
        "outputId": "bc6bc9a2-cd40-4308-ae78-462d06b2e92e"
      },
      "execution_count": 173,
      "outputs": [
        {
          "output_type": "execute_result",
          "data": {
            "text/plain": [
              "<generator object <genexpr> at 0x7f6978d3acd0>"
            ]
          },
          "metadata": {},
          "execution_count": 173
        }
      ]
    },
    {
      "cell_type": "code",
      "source": [
        "myjson = sc.parallelize(data)"
      ],
      "metadata": {
        "id": "9t2K2slDzDV0"
      },
      "execution_count": 180,
      "outputs": []
    },
    {
      "cell_type": "code",
      "source": [
        "cnpj = spark.createDataFrame(\n",
        "    data=data,\n",
        "    schema=schema_cnpj\n",
        ")\n",
        "\n",
        "cnpj.show(truncate=False)"
      ],
      "metadata": {
        "colab": {
          "base_uri": "https://localhost:8080/"
        },
        "id": "ZAbbSQgfWPhC",
        "outputId": "339266e2-5771-4fc3-f554-424b43f10aa6"
      },
      "execution_count": 188,
      "outputs": [
        {
          "output_type": "stream",
          "name": "stdout",
          "text": [
            "+--------------+-------------------+------------------------------------+---------------------------------------------------------------------------------------------------------------------------------------------------------------------------------------------------------------------------------------------------------------------------------------------------------------------------------------------------------------------------------------------------------------------------------------------------------------------------------------------------------------------------------------------------------------------------------------------------------------------------------------------------------------------------------------------------------------------------------------------------------------------------------------------------------------------------------------------------------------------------------------------------------------------------------------------------------------------------------------------------------------------------------------------------------------------------------------------------------------------------------------------------------------------------------------------------------------------------------------------------------------------------------------------------------------------------------------------------------------------------------------------------------------------------------------------------------------------------------------------------------------------------------------------------------------------------------------------------------------------------------------------------------------------------------------------------------------------------------------------------------------------------------------------------------------------------------------------------------------------------------------------------------------------------------------------------------------------------------------------------------------------------------------------------------------------------------------------------------------+\n",
            "|cnpj          |created_at         |id                                  |response                                                                                                                                                                                                                                                                                                                                                                                                                                                                                                                                                                                                                                                                                                                                                                                                                                                                                                                                                                                                                                                                                                                                                                                                                                                                                                                                                                                                                                                                                                                                                                                                                                                                                                                                                                                                                                                                                                                                                                                                                                                                                                       |\n",
            "+--------------+-------------------+------------------------------------+---------------------------------------------------------------------------------------------------------------------------------------------------------------------------------------------------------------------------------------------------------------------------------------------------------------------------------------------------------------------------------------------------------------------------------------------------------------------------------------------------------------------------------------------------------------------------------------------------------------------------------------------------------------------------------------------------------------------------------------------------------------------------------------------------------------------------------------------------------------------------------------------------------------------------------------------------------------------------------------------------------------------------------------------------------------------------------------------------------------------------------------------------------------------------------------------------------------------------------------------------------------------------------------------------------------------------------------------------------------------------------------------------------------------------------------------------------------------------------------------------------------------------------------------------------------------------------------------------------------------------------------------------------------------------------------------------------------------------------------------------------------------------------------------------------------------------------------------------------------------------------------------------------------------------------------------------------------------------------------------------------------------------------------------------------------------------------------------------------------+\n",
            "|68093095000179|2018-10-19 21:36:11|99068e55-1018-47e7-91a9-44cded045033|{01/07/1992, [{10.31-7-00, Fabricação de conservas de frutas}], [{10.53-8-00, Fabricação de sorvetes e outros gelados comestíveis}, {52.11-7-99, Depósitos de mercadorias para terceiros, exceto armazéns gerais e guarda-móveis}, {47.29-6-99, Comércio varejista de produtos alimentícios em geral ou especializado em produtos alimentícios não especificados anteriormente}], IARA, {true, true}, 39950000.00, 12.949-880, 68.093.095/0001-79, , 03/11/2005, , , fiscal@frooty.com.br, SP ICE, FROOTY ACAI, ACAI FROOTY, ChIJby61NifBzpQRVvO7DKFIYTM, -23.1175492, ESTM CAMPO LIMPO PAULISTA A ATIBAIA, -46.5567066, , ATIBAIA, 205-4 - Sociedade Anônima Fechada, FROOTY COMERCIO E INDUSTRIA DE ALIMENTOS S.A., S/N, [{MARCELO CESANA, 10-Diretor}, {SILVIO LA ROCCA SANTOS, 10-Diretor}, {PEDRO HENRIQUE CHRISTOVAM GOMES, 10-Diretor}], ATIVA, , OK, (11) 3093-3100 / (11) 3093-1300, MATRIZ, SP, 2018-08-09T18:58:13.133Z}                                                                                                                                                                                                                                                                                                                                                                                                                                                                                                                                                                                                                                                                                                                                                                                                                                                                                                                                                                                                                                                                                                                                                                            |\n",
            "|13492669000190|2018-10-20 17:17:03|c475b934-eef1-488e-8f6a-b6087ef32b9b|{17/03/2011, [{46.35-4-03, Comércio atacadista de bebidas com atividade de fracionamento e acondicionamento associada}], [{46.39-7-01, Comércio atacadista de produtos alimentícios em geral}, {64.62-0-00, Holdings de instituições não-financeiras}, {46.49-4-99, Comércio atacadista de outros equipamentos e artigos de uso pessoal e doméstico não especificados anteriormente}, {46.49-4-04, Comércio atacadista de móveis e artigos de colchoaria}, {46.43-5-02, Comércio atacadista de bolsas, malas e artigos de viagem}, {46.89-3-99, Comércio atacadista especializado em outros produtos intermediários não especificados anteriormente}, {46.93-1-00, Comércio atacadista de mercadorias em geral, sem predominância de alimentos ou de insumos agropecuários}, {46.42-7-01, Comércio atacadista de artigos do vestuário e acessórios, exceto profissionais e de segurança}, {47.59-8-99, Comércio varejista de outros artigos de uso pessoal e doméstico não especificados anteriormente}, {47.54-7-01, Comércio varejista de móveis}, {47.82-2-02, Comércio varejista de artigos de viagem}, {47.89-0-99, Comércio varejista de outros produtos não especificados anteriormente}, {47.81-4-00, Comércio varejista de artigos do vestuário e acessórios}, {82.30-0-01, Serviços de organização de feiras, congressos, exposições e festas}], PINHEIROS, {true, true}, 76729078.00, 05.407-000, 13.492.669/0001-90, ANDAR 6 CONJ 62 63 64 ANDAR 7 CONJ 71 72 73 74, 17/03/2011, , , financeiro@estrellagalicia.com.br, , ChIJ1bUkuoVXzpQR9SpW9Y0qwJI, -23.5549873, R CARDEAL ARCOVERDE, -46.676754, , SAO PAULO, 206-2 - Sociedade Empresária Limitada, ESTRELLA DE GALICIA IMPORTACAO E COMERCIALIZACAO DE BEBIDAS E ALIMENTOS LTDA, 359, [{HIJOS DE RIVERA SA, 37-Sócio Pessoa Jurídica Domiciliado no Exterior}, {FABIO RODRIGUES, 05-Administrador}, {CORPORACIÓN HIJOS DE RIVERA, S.L., 37-Sócio Pessoa Jurídica Domiciliado no Exterior}], ATIVA, , OK, (11) 2368-5876, MATRIZ, SP, 2018-09-05T15:13:52.878Z}                                                                               |\n",
            "|74683392000177|2018-11-21 08:21:30|e013ecef-c884-4155-905c-c8b1a998abf6|{29/04/1994, [{47.71-7-01, Comércio varejista de produtos farmacêuticos, sem manipulação de fórmulas}], [{00.00-0-00, Não informada}], JARDIM ELLUS, {true, true}, 4000.00, 04.852-690, 74.683.392/0001-77, , 03/11/2005, , , , , EmZSdWEgTWFlc3RybyBMdWl6IFJvYmVydG8gQm9yZ2VzLCAyNCAtIEphcmRpbSBTaGFuZ3JpbMOhIChab25hIFN1bCksIFPDo28gUGF1bG8gLSBTUCwgMDQ4NTItNjkwLCBCcmF6aWwiGhIYChQKEgnjzOEjGEbOlBHuwSQ1aV6kQBAY, -23.7649986, R MAESTRO LUIZ ROBERTO BORGES, -46.6615728, , SAO PAULO, 206-2 - Sociedade Empresária Limitada, DROGARIA NOVA SABARA LTDA, 24, [{PAULO ROBERTO DA SILVA, 49-Sócio-Administrador}], ATIVA, , OK, (11) 5635-1684 / (11) 5635-1684, MATRIZ, SP, 2018-08-26T22:00:13.004Z}                                                                                                                                                                                                                                                                                                                                                                                                                                                                                                                                                                                                                                                                                                                                                                                                                                                                                                                                                                                                                                                                                                                                                                                                                                                                                                                                                                                                        |\n",
            "|12423658000195|2018-10-19 21:20:15|03bc0063-69d6-4381-a7c6-61d9bd01dd05|{20/08/2010, [{10.31-7-00, Fabricação de conservas de frutas}], [{82.92-0-00, Envasamento e empacotamento sob contrato}, {10.95-3-00, Fabricação de especiarias, molhos, temperos e condimentos}], SAO SEBASTIAO, {true, true}, 150000.00, 55.818-555, 12.423.658/0001-95, , 20/08/2010, , , , PRAEIRA ALIMENTOS, ChIJh2w2mlagqwcREoldpLMsPpA, -7.8522754, R TERTULIANO AUGUSTO SANTIAGO, -35.2527637, , CARPINA, 206-2 - Sociedade Empresária Limitada, DJ INDUSTRIA E COMERCIO DE ALIMENTOS LTDA, 165, [{JATANACY DOS SANTOS FARIAS, 49-Sócio-Administrador}, {DANYLO D LAVEGA DE FARIAS, 49-Sócio-Administrador}], ATIVA, , OK, (81) 3622-0126, MATRIZ, PE, 2018-09-05T18:32:21.611Z}                                                                                                                                                                                                                                                                                                                                                                                                                                                                                                                                                                                                                                                                                                                                                                                                                                                                                                                                                                                                                                                                                                                                                                                                                                                                                                                                                                                                                       |\n",
            "|00588458000103|2018-10-15 12:36:16|07e1f38f-cef6-49d0-89be-4f2c135a1538|{31/03/1995, [{10.31-7-00, Fabricação de conservas de frutas}], [{10.93-7-01, Fabricação de produtos derivados do cacau e de chocolates}, {10.95-3-00, Fabricação de especiarias, molhos, temperos e condimentos}, {10.96-1-00, Fabricação de alimentos e pratos prontos}, {46.83-4-00, Comércio atacadista de defensivos agrícolas, adubos, fertilizantes e corretivos do solo}, {47.29-6-99, Comércio varejista de produtos alimentícios em geral ou especializado em produtos alimentícios não especificados anteriormente}, {46.39-7-01, Comércio atacadista de produtos alimentícios em geral}, {10.32-5-99, Fabricação de conservas de legumes e outros vegetais, exceto palmito}], JARDIM PARAISO, {true, true}, 27105878.80, 15.910-000, 00.588.458/0001-03, , 28/05/2005, , , contabil@fugini.com.br, , ChIJrctJMX5GuZQR4uh_gKr9RY0, -21.2719061, AV FUGITA, -48.5196412, , MONTE ALTO, 206-2 - Sociedade Empresária Limitada, FUGINI ALIMENTOS LTDA, 1000, [{CRISTINA MASSAE FUGITA ABRAHAO, 05-Administrador}, {AURO NINELLI, 05-Administrador}, {KYOTO PARTICIPACOES LTDA, 22-Sócio}, {GLANELLI PARTICIPACOES LTDA, 22-Sócio}], ATIVA, , OK, (16) 3244-5540, MATRIZ, SP, 2018-10-10T06:08:31.195Z}                                                                                                                                                                                                                                                                                                                                                                                                                                                                                                                                                                                                                                                                                                                                                                                                                                                                                                 |\n",
            "|61365557000110|2018-10-18 21:15:05|58dbdec7-2502-43e3-b765-4ae063a84907|{29/07/1966, [{10.52-0-00, Fabricação de laticínios}], [{10.81-3-02, Torrefação e moagem de café}, {46.21-4-00, Comércio atacadista de café em grão}, {46.31-1-00, Comércio atacadista de leite e laticínios}, {46.35-4-01, Comércio atacadista de água mineral}, {46.37-1-01, Comércio atacadista de café torrado, moído e solúvel}, {46.37-1-99, Comércio atacadista especializado em outros produtos alimentícios não especificados anteriormente}, {46.39-7-01, Comércio atacadista de produtos alimentícios em geral}, {47.12-1-00, Comércio varejista de mercadorias em geral, com predominância de produtos alimentícios - minimercados, mercearias e armazéns}, {47.21-1-03, Comércio varejista de laticínios e frios}], MOCOQUINHA, {true, true}, 10500000.00, 37.950-000, 61.365.557/0001-10, , 31/12/2004, , , , MANTEIGA AVIACAO, ChIJd0jDVWMXt5QRHf-iPf9dFP4, -20.9262563, AV WENCESLAU BRAS, -46.9852109, , SAO SEBASTIAO DO PARAISO, 205-4 - Sociedade Anônima Fechada, GONCALVES SALLES S A INDUSTRIA E COMERCIO, 36, [{GERALDO ALVARENGA RESENDE FILHO, 16-Presidente}, {ANA LUISA RESENDE PIMENTA, 10-Diretor}, {ROBERTO REZENDE PIMENTA FILHO, 10-Diretor}], ATIVA, , OK, , MATRIZ, MG, 2018-08-20T07:26:18.370Z}                                                                                                                                                                                                                                                                                                                                                                                                                                                                                                                                                                                                                                                                                                                                                                                                                                                                           |\n",
            "|75315333008274|2018-09-26 10:02:18|17266223-0c0b-4d81-bd9f-e240523d9771|{12/09/2008, [{47.11-3-01, Comércio varejista de mercadorias em geral, com predominância de produtos alimentícios - hipermercados}], [{52.12-5-00, Carga e descarga}], SAO JOSE, {true, true}, 7609482817.90, 63.024-015, 75.315.333/0082-74, , 12/09/2008, , , tributario@atacadao.com.br, ATACADAO, ChIJ9fcRsVuCoQcR-Gud6w_nm7A, -7.2292715, AV PADRE CICERO, -39.3487502, , JUAZEIRO DO NORTE, 204-6 - Sociedade Anônima Aberta, ATACADAO S.A., 4385, [{JOSE ROBERTO MEISTER MUSSNICH, 10-Diretor}, {MARCO APARECIDO DE OLIVEIRA, 10-Diretor}, {SEBASTIEN DURCHON, 10-Diretor}, {ABILIO DOS SANTOS DINIZ, 08-Conselheiro de Administração}, {EDUARDO PONGRACZ ROSSI, 08-Conselheiro de Administração}, {FRANCK EMILE TASSAN, 08-Conselheiro de Administração}, {FRANCIS ANDRE MAUGER, 08-Conselheiro de Administração}, {JACQUES DOMINIQUE EHRMANN, 08-Conselheiro de Administração}, {NOEL FREDERIC GEORGES PRIOUX, 16-Presidente}, {MATTHIEU DOMINIQUE MARIE MALIGE, 08-Conselheiro de Administração}], ATIVA, , OK, (11) 2967-8235 / (11) 2967-8447, FILIAL, CE, 2018-09-10T09:32:09.622Z}                                                                                                                                                                                                                                                                                                                                                                                                                                                                                                                                                                                                                                                                                                                                                                                                                                                                                                                                                                                                               |\n",
            "|33033028000184|2018-08-24 01:25:49|717e6f70-7058-49b3-b1a8-5306e4178157|{24/01/1973, [{82.99-7-99, Outras atividades de serviços prestados principalmente às empresas não especificadas anteriormente}], [{10.52-0-00, Fabricação de laticínios}, {10.93-7-01, Fabricação de produtos derivados do cacau e de chocolates}, {10.93-7-02, Fabricação de frutas cristalizadas, balas e semelhantes}, {10.99-6-02, Fabricação de pós alimentícios}, {10.99-6-03, Fabricação de fermentos e leveduras}, {10.99-6-99, Fabricação de outros produtos alimentícios não especificados anteriormente}, {82.11-3-00, Serviços combinados de escritório e apoio administrativo}, {82.19-9-99, Preparação de documentos e serviços especializados de apoio administrativo não especificados anteriormente}], AGUA VERDE, {true, true}, 68578207.00, 80.610-010, 33.033.028/0001-84, PARTE, 03/11/2005, , , corporate.brasil@mdlz.com, MONDELEZ BRASIL, ChIJm3EeF5zk3JQR3n60owd8Qic, -25.4671819, AV PRESIDENTE KENNEDY, -49.2800834, , CURITIBA, 206-2 - Sociedade Empresária Limitada, MONDELEZ BRASIL LTDA, 2511, [{KRAFT FOODS LA MB HOLDING BV, 37-Sócio Pessoa Jurídica Domiciliado no Exterior}, {KRAFT FOODS LA NMB BV, 37-Sócio Pessoa Jurídica Domiciliado no Exterior}, {AUGUSTO JOSE LEMOS, 05-Administrador}, {PEDRO HENRIQUE FERNANDES, 05-Administrador}, {FABIO NOGUEIRA MAGALHAES, 05-Administrador}], ATIVA, , OK, (41) 3314-4000, MATRIZ, PR, 2018-08-16T11:54:16.285Z}                                                                                                                                                                                                                                                                                                                                                                                                                                                                                                                                                                                                                                                                                                           |\n",
            "|04939545000119|2018-10-18 21:52:18|0c116d6a-1708-47a9-95a6-7aa2dcc469b2|{04/03/2002, [{47.72-5-00, Comércio varejista de cosméticos, produtos de perfumaria e de higiene pessoal}], [{82.19-9-99, Preparação de documentos e serviços especializados de apoio administrativo não especificados anteriormente}, {82.11-3-00, Serviços combinados de escritório e apoio administrativo}], CONDOMINIO RESIDENCIAL AGUA VERDE, {true, true}, 10000.00, 12.946-771, 04.939.545/0001-19, : BAIRRO; : RES. AGUA VERDE;, 03/11/2005, , , helida.linhares@helcla.com.br, , EkBSLiBEb2lzLCAxNzUgLSBBbHBlcyBkZSBBdGliYWlhLCBBdGliYWlhIC0gU1AsIDEyOTQ2LTg3NSwgQnJhc2lsIhsSGQoUChIJcb1m8U7AzpQRZ78QDpJW2qIQrwE, -23.1496633, R DOIS, -46.5479356, , ATIBAIA, 213-5 - Empresário (Individual), HELIO SOARES DE ARAUJO, 175, [], ATIVA, , OK, (11) 4034-3164 / (11) 4032-4765, MATRIZ, SP, 2018-09-11T08:27:53.333Z}                                                                                                                                                                                                                                                                                                                                                                                                                                                                                                                                                                                                                                                                                                                                                                                                                                                                                                                                                                                                                                                                                                                                                                                                                                                                                  |\n",
            "|46842894000591|2018-10-19 22:08:45|6551306a-b8b8-471b-96b5-bb60e356f673|{30/04/2001, [{11.13-5-02, Fabricação de cervejas e chopes}], [{11.22-4-01, Fabricação de refrigerantes}, {11.22-4-04, Fabricação de bebidas isotônicas}, {11.22-4-99, Fabricação de outras bebidas não-alcoólicas não especificadas anteriormente}, {10.99-6-99, Fabricação de outros produtos alimentícios não especificados anteriormente}], DISTRITO INDUSTRIAL, {true, true}, 140000000.00, 19.880-000, 46.842.894/0005-91, PORTOES 01 A 04, 03/11/2005, , , ariovaldo.vizioli@contini.com.br, CONTINI, ChIJG_l0ofQcxpQRLqKAciOUwMY, -22.7326413, AV MARIA PAGOTE CONTE, -50.3892399, , CANDIDO MOTA, 206-2 - Sociedade Empresária Limitada, CASA DI CONTI LTDA, 888, [{GERSON CONTE, 49-Sócio-Administrador}, {MARIA DE LOURDES SILVA CONTE, 22-Sócio}, {GERSON CONTE FILHO, 22-Sócio}, {SUSANA CONTE, 22-Sócio}], ATIVA, , OK, (18) 3341-9000 / (18) 3341-9039, FILIAL, SP, 2018-09-18T07:46:40.834Z}                                                                                                                                                                                                                                                                                                                                                                                                                                                                                                                                                                                                                                                                                                                                                                                                                                                                                                                                                                                                                                                                                                                                                                                                   |\n",
            "|60879467000185|2018-10-18 19:08:17|9fca2b00-d425-4ca1-9ae2-f222b5d97f8b|{15/07/1966, [{10.94-5-00, Fabricação de massas alimentícias}], [{00.00-0-00, Não informada}], VILA MARIA, {true, true}, 50000.00, 02.132-150, 60.879.467/0001-85, 182 184 188 192, 03/11/2005, , , , , ChIJrTqT6WlfzpQR0gkcAcLDsUM, -23.5020575, PC TOKIO, -46.5732038, , SAO PAULO, 206-2 - Sociedade Empresária Limitada, PRODUTOS ALIMENTICIOS EXCELSA LTDA, 180, [{JUNE ROSA ALVES, 49-Sócio-Administrador}, {ROGERIO AUGUSTO ALVES, 49-Sócio-Administrador}], ATIVA, , OK, , MATRIZ, SP, 2018-08-25T21:07:26.050Z}                                                                                                                                                                                                                                                                                                                                                                                                                                                                                                                                                                                                                                                                                                                                                                                                                                                                                                                                                                                                                                                                                                                                                                                                                                                                                                                                                                                                                                                                                                                                                                                       |\n",
            "|29737368003487|2018-08-24 01:50:23|d11d09eb-545d-4d01-a8a5-111bcbbb3b00|{18/06/2002, [{10.93-7-01, Fabricação de produtos derivados do cacau e de chocolates}], [{46.37-1-07, Comércio atacadista de chocolates, confeitos, balas, bombons e semelhantes}], ZONA RURAL, {true, true}, 425446069.00, 08.900-000, 29.737.368/0034-87, KILOMETRO 175,4-NORTE, 03/11/2005, , , , MARS BRASIL, EihSb2QuIFByZXMuIER1dHJhLCBHdWFyYXJlbWEgLSBTUCwgQnJhc2lsIkgqRgoUChIJn2Jd0UesngARhhVAvI8XgRUSFAoSCRswOiuxz82UEYBM_yVeuQGxGhgKCg196hXyFXdkfOQSCg1SdRvyFWhsjOQ, -23.3218501, ROD PRESIDENTE DUTRA, -46.1080441, , GUARAREMA, 206-2 - Sociedade Empresária Limitada, MASTERFOODS BRASIL ALIMENTOS LTDA., S/N, [{JOSE CARLOS TORRESAN RAPACCI, 05-Administrador}, {LUIS FILIPE SILVA FONSECA, 05-Administrador}, {MARS BRAZIL HOLDINGS US, LLC, 37-Sócio Pessoa Jurídica Domiciliado no Exterior}, {MARS NEDERLAND B.V., 37-Sócio Pessoa Jurídica Domiciliado no Exterior}], ATIVA, , OK, , FILIAL, SP, 2018-07-16T16:18:26.468Z}                                                                                                                                                                                                                                                                                                                                                                                                                                                                                                                                                                                                                                                                                                                                                                                                                                                                                                                                                                                                                                                                                                                                                                 |\n",
            "|04869719000114|2018-10-20 02:24:59|27f6309c-da8b-4ee1-beab-bb84c2a91a7d|{18/01/2002, [{10.92-9-00, Fabricação de biscoitos e bolachas}], [{01.63-6-00, colheita}, {10.52-0-00, Fabricação de laticínios}, {10.64-3-00, Fabricação de farinha de milho e derivados, exceto óleos de milho}, {10.31-7-00, Fabricação de conservas de frutas}, {10.62-7-00, Moagem de trigo e fabricação de derivados}, {10.93-7-01, Fabricação de produtos derivados do cacau e de chocolates}, {10.99-6-05, Fabricação de produtos para infusão (chá, mate, etc.)}, {10.32-5-99, Fabricação de conservas de legumes e outros vegetais, exceto palmito}, {10.99-6-99, Fabricação de outros produtos alimentícios não especificados anteriormente}, {46.37-1-99, Comércio atacadista especializado em outros produtos alimentícios não especificados anteriormente}, {52.50-8-04, Organização logística do transporte de carga}, {70.20-4-00, Atividades de consultoria em gestão empresarial, exceto consultoria técnica específica}, {82.92-0-00, Envasamento e empacotamento sob contrato}, {10.99-6-07, Fabricação de alimentos dietéticos e complementos alimentares}, {52.11-7-99, Depósitos de mercadorias para terceiros, exceto armazéns gerais e guarda-móveis}], CIDADE INDUSTRIAL DE CURITIBA, {true, true}, 1678500.00, 81.260-020, 04.869.719/0001-14, , 27/08/2005, , , contabilidade@vitao.com.br, , ElFSLiBSZWdpbmEgVGlzc2VyIFN0aWVyLCAzMDcgLSBDaWRhZGUgSW5kdXN0cmlhbCwgQ3VyaXRpYmEgLSBQUiwgODEyNjAtMDIwLCBCcmFzaWwiGxIZChQKEgknEsVodOLclBFnHmrV3tMgzBCzAg, -25.463865, R REGINA TISSER STIER, -49.3609864, , CURITIBA, 206-2 - Sociedade Empresária Limitada, VITAO ALIMENTOS LTDA, 307, [{EDOUARD THOME, 49-Sócio-Administrador}, {JOSE ALEXANDRE FORNECK, 49-Sócio-Administrador}, {GOLDSTEEL PARTICIPACOES LTDA., 22-Sócio}, {MAGNUS JANIO CURI, 05-Administrador}], ATIVA, , OK, (41) 3523-6500 / (41) 3523-6500, MATRIZ, PR, 2018-08-22T22:43:28.092Z}                                                                                                                                                                                                                             |\n",
            "|01097783000640|2018-11-20 09:38:57|473e0bc1-1141-41ed-a4b2-d8b43c3b0e23|{01/12/2006, [{45.30-7-01, Comércio por atacado de peças e acessórios novos para veículos automotores}], [{00.00-0-00, Não informada}], SAO FRANCISCO, {true, true}, 5600000.00, 31.255-180, 01.097.783/0006-40, , 01/12/2006, , , fiscal.rs@bodipasa.com.br, BODIPASA LTDA, ChIJc5LivZOQpgARZmKmnq1kIjQ, -19.8793205, R CALDAS DA RAINHA, -43.9596373, , BELO HORIZONTE, 206-2 - Sociedade Empresária Limitada, BODIPASA BOMBAS DIESEL PAULISTA LTDA, 1800, [{CLAUDIO PRETTO, 49-Sócio-Administrador}, {VALDIVIA MARIA FRIEDRICH PRETTO, 49-Sócio-Administrador}, {JOAO JEFREMOVAS, 22-Sócio}, {JOSE CARLOS KAELHER PRIAMO, 22-Sócio}, {PEDRO ROZENDO PIMENTEL, 22-Sócio}, {VALQUIR OURIQUE DE MATTOS, 22-Sócio}, {FABIANO DE ALMEIDA ROCHA, 22-Sócio}, {LUIZ UEHARA, 22-Sócio}, {ALTEMIR MANENTE PINTO, 22-Sócio}, {DOUGLAS MACHADO VARGAS, 22-Sócio}, {EDILSON GUTTERRES JUNIOR, 22-Sócio}, {ANTONIO AZZOLIN JUNIOR, 22-Sócio}, {FARP PARTICIPACOES SOCIETARIAS LTDA., 22-Sócio}, {RAMIRO FRIEDRICH PRETTO, 22-Sócio}], ATIVA, , OK, (51) 3027-6154 / (51) 3027-6159, FILIAL, MG, 2018-08-19T17:10:29.745Z}                                                                                                                                                                                                                                                                                                                                                                                                                                                                                                                                                                                                                                                                                                                                                                                                                                                                                                                                                                                                 |\n",
            "|08192116000181|2018-10-18 21:51:41|b4130de7-4968-43ec-bdaa-b55e38ffff43|{10/04/2006, [{10.33-3-02, Fabricação de sucos de frutas, hortaliças e legumes, exceto concentrados}], [{10.95-3-00, Fabricação de especiarias, molhos, temperos e condimentos}, {11.11-9-02, Fabricação de outras aguardentes e bebidas destiladas}, {10.99-6-99, Fabricação de outros produtos alimentícios não especificados anteriormente}, {10.53-8-00, Fabricação de sorvetes e outros gelados comestíveis}, {46.35-4-03, Comércio atacadista de bebidas com atividade de fracionamento e acondicionamento associada}, {46.37-1-99, Comércio atacadista especializado em outros produtos alimentícios não especificados anteriormente}, {77.40-3-00, Gestão de ativos intangíveis não-financeiros}, {82.92-0-00, Envasamento e empacotamento sob contrato}, {11.21-6-00, Fabricação de águas envasadas}, {11.22-4-02, Fabricação de chá mate e outros chás prontos para consumo}, {01.33-4-10, Cultivo de manga}, {01.21-1-01, Horticultura, exceto morango}, {10.33-3-01, Fabricação de sucos concentrados de frutas, hortaliças e legumes}], VILA NOVA CONCEICAO, {true, true}, 187402047.97, 04.544-051, 08.192.116/0001-81, CONJ 41, 10/04/2006, , , carlos.pinto@natone.com.br, , ChIJBRVyjUVXzpQRQRt4Cei8Y4s, -23.5934689, R MINISTRO JESUINO CARDOSO, -46.6837146, , SAO PAULO, 205-4 - Sociedade Anônima Fechada, NATURAL ONE S.A., 633, [{RICARDO ERMIRIO DE MORAES, 10-Diretor}, {ALEXANDRE DE SALLES OLIVEIRA, 10-Diretor}, {RAFAEL IVANISK OLIVEIRA, 16-Presidente}], ATIVA, , OK, (11) 4016-8380, MATRIZ, SP, 2018-08-13T16:41:00.888Z}                                                                                                                                                                                                                                                                                                                                                                                                                                                                                                                                                     |\n",
            "|07175867000127|2018-10-20 06:06:12|bd15be2e-1f0f-4a66-aea2-98930a508572|{17/12/2004, [{10.99-6-99, Fabricação de outros produtos alimentícios não especificados anteriormente}], [{46.39-7-01, Comércio atacadista de produtos alimentícios em geral}], CATUMBI, {true, true}, 150000.00, 03.024-010, 07.175.867/0001-27, SALA 18, 17/12/2004, , , gerencia@alwacontabil.com.br, , ChIJ7U-kD-lYzpQR9pJ2lfnCt6I, -23.5290192, R CAPITAO-MOR PASSOS, -46.61551, , SAO PAULO, 206-2 - Sociedade Empresária Limitada, DOCE SABOR INDUSTRIA E COMERCIO DE PRODUTOS ALIMENTICIOS LTDA, 64, [{MARCOS ROBERTO DA SILVA, 49-Sócio-Administrador}, {CLAUDEMIR VIANNA MAIA, 22-Sócio}], ATIVA, , OK, (11) 2618-4744 / (11) 2081-8811, MATRIZ, SP, 2018-09-18T13:31:56.191Z}                                                                                                                                                                                                                                                                                                                                                                                                                                                                                                                                                                                                                                                                                                                                                                                                                                                                                                                                                                                                                                                                                                                                                                                                                                                                                                                                                                                                                       |\n",
            "|05215210000110|2018-12-10 14:24:04|93dd5ec8-222e-4299-b629-82556d4e6065|{06/08/2002, [{46.49-4-99, Comércio atacadista de outros equipamentos e artigos de uso pessoal e doméstico não especificados anteriormente}], [{46.15-0-00, Representantes comerciais e agentes do comércio de eletrodomésticos, móveis e artigos de uso doméstico}], BOQUEIRAO, {true, true}, 105000.00, 81.730-070, 05.215.210/0001-10, , 24/09/2005, , , , , ChIJg36LFWD63JQRcntcYQyRrsc, -25.5130262, R O BRASIL PARA CRISTO, -49.2220905, , CURITIBA, 206-2 - Sociedade Empresária Limitada, A Z P R COMERCIO, IMPORTACAO E EXPORTACAO LTDA, 3347, [{LUCIANA DE SOUSA PENHALVER, 22-Sócio}, {ALEXANDRE ZIMMERMANN PAGNOZZI, 49-Sócio-Administrador}], ATIVA, , OK, (41) 3376-2439, MATRIZ, PR, 2018-09-05T14:11:56.913Z}                                                                                                                                                                                                                                                                                                                                                                                                                                                                                                                                                                                                                                                                                                                                                                                                                                                                                                                                                                                                                                                                                                                                                                                                                                                                                                                                                                                  |\n",
            "|06940040000108|2018-08-24 04:08:26|cbf6322f-c8f3-473c-b5d9-3ed519ff31ca|{23/08/2004, [{46.49-4-99, Comércio atacadista de outros equipamentos e artigos de uso pessoal e doméstico não especificados anteriormente}], [{46.18-4-99, Outros representantes comerciais e agentes do comércio especializado em produtos não especificados anteriormente}, {46.41-9-02, Comércio atacadista de artigos de cama, mesa e banho}, {46.41-9-03, Comércio atacadista de artigos de armarinho}, {46.46-0-01, Comércio atacadista de cosméticos e produtos de perfumaria}, {46.46-0-02, Comércio atacadista de produtos de higiene pessoal}, {62.04-0-00, Consultoria em tecnologia da informação}, {62.09-1-00, Suporte técnico, manutenção e outros serviços em tecnologia da informação}, {69.20-6-01, Atividades de contabilidade}, {70.20-4-00, Atividades de consultoria em gestão empresarial, exceto consultoria técnica específica}, {82.91-1-00, Atividades de cobranças e informações cadastrais}, {85.99-6-04, Treinamento em desenvolvimento profissional e gerencial}], CIVIT I, {true, true}, 10933453.00, 29.168-045, 06.940.040/0001-08, GALPAO02 MOD 01 A 04, 23/08/2004, , , fiscal@bellizcompany.com.br, , ChIJG9LrjoseuAARkjCHFmbSjkc, -20.1837841, AV CIVIT, -40.2441534, , SERRA, 230-5 - Empresa Individual de Responsabilidade Limitada (de Natureza Empresária), BELLIZ INDUSTRIA, COMERCIO, IMPORTACAO E EXPORTACAO EIRELI, 497, [{DEUK SOO YEO, 65-Titular Pessoa Física Residente ou Domiciliado no Brasil}], ATIVA, , OK, (11) 3371-9599, MATRIZ, ES, 2018-08-07T16:53:15.144Z}                                                                                                                                                                                                                                                                                                                                                                                                                                                                                                                                                                                     |\n",
            "|32223965000130|2018-12-17 03:45:04|2972871c-632b-499d-8681-cea1e0b1fa22|{11/12/2018, [{45.30-7-02, Comércio por atacado de pneumáticos e câmaras-de-ar}], [{45.20-0-04, Serviços de alinhamento e balanceamento de veículos automotores}, {45.20-0-06, Serviços de borracharia para veículos automotores}, {45.20-0-07, Serviços de instalação, manutenção e reparação de acessórios para veículos automotores}, {45.30-7-01, Comércio por atacado de peças e acessórios novos para veículos automotores}, {45.30-7-03, Comércio a varejo de peças e acessórios novos para veículos automotores}, {45.30-7-05, Comércio a varejo de pneumáticos e câmaras-de-ar}, {46.81-8-05, Comércio atacadista de lubrificantes}, {47.32-6-00, Comércio varejista de lubrificantes}, {49.30-2-02, Transporte rodoviário de carga, exceto produtos perigosos e mudanças, intermunicipal, interestadual e internacional}], CENTRO, {true, true}, 100000.00, 86.490-000, 32.223.965/0001-30, SALA 02, 11/12/2018, , , escritorioar@bol.com.br, OESTE PAULISTA PNEUS, EmFSLiBKw7psaW8gRmFyw6FoLCA3MDggLSBDb25qLiBIYWIuIFVsaXNzZXMgR3VpbWFyYWVzLCBSaWJlaXLDo28gZG8gUGluaGFsIC0gUFIsIDg2NDkwLTAwMCwgQnJhemlsIhsSGQoUChIJ1x1tpLD06pQRTtWvXkWd8Y4QxAU, -23.4062516, R JULIO FARAH, -50.3588334, , RIBEIRAO DO PINHAL, 230-5 - Empresa Individual de Responsabilidade Limitada (de Natureza Empresária), OESTE PAULISTA COMERCIO DE PNEUS EIRELI, 708, [{ADRIANA CRISTINA PILATO MARTINS, 65-Titular Pessoa Física Residente ou Domiciliado no Brasil}], ATIVA, , OK, (43) 3551-1185, MATRIZ, PR, 2018-12-14T09:06:26.125Z}                                                                                                                                                                                                                                                                                                                                                                                                                                                                                                                                                                                 |\n",
            "|59557124000115|2018-08-24 04:02:09|ce8666cd-eccd-4a1b-8bda-f16e46e4ea85|{12/10/1988, [{20.62-2-00, Fabricação de produtos de limpeza e polimento}], [{21.21-1-01, Fabricação de medicamentos alopáticos para uso humano}, {20.63-1-00, Fabricação de cosméticos, produtos de perfumaria e de higiene pessoal}, {21.10-6-00, Fabricação de produtos farmoquímicos}, {21.21-1-02, Fabricação de medicamentos homeopáticos para uso humano}, {21.22-0-00, Fabricação de medicamentos para uso veterinário}, {21.23-8-00, Fabricação de preparações farmacêuticas}, {46.44-3-01, Comércio atacadista de medicamentos e drogas de uso humano}, {21.21-1-03, Fabricação de medicamentos fitoterápicos para uso humano}, {46.93-1-00, Comércio atacadista de mercadorias em geral, sem predominância de alimentos ou de insumos agropecuários}, {10.99-6-99, Fabricação de outros produtos alimentícios não especificados anteriormente}, {15.40-8-00, Fabricação de partes para calçados, de qualquer material}, {22.19-6-00, Fabricação de artefatos de borracha não especificados anteriormente}, {46.49-4-08, Comércio atacadista de produtos de higiene, limpeza e conservação domiciliar}, {46.46-0-01, Comércio atacadista de cosméticos e produtos de perfumaria}, {46.46-0-02, Comércio atacadista de produtos de higiene pessoal}, {46.49-4-99, Comércio atacadista de outros equipamentos e artigos de uso pessoal e doméstico não especificados anteriormente}], JARDIM ARPOADOR, {true, true}, 258123223.00, 05.577-900, 59.557.124/0001-15, KM 18, 31/10/2007, , , brtaxes@rb.com, , ChIJ5aKZdApVzpQR1S5RjeG_pGI, -23.5851979, ROD RAPOSO TAVARES, -46.7868335, , SAO PAULO, 206-2 - Sociedade Empresária Limitada, RECKITT BENCKISER ( BRASIL ) LTDA., 8015, [{R & C NOMINEES LTD., 37-Sócio Pessoa Jurídica Domiciliado no Exterior}, {LANCASTER SQUARE HOLDINGS, S.L, 37-Sócio Pessoa Jurídica Domiciliado no Exterior}, {JOSE JOAQUIN CAMERO GONZALEZ, 05-Administrador}, {ALVARO JOSE CANTILLO MANTILLA, 05-Administrador}, {SERGIO LUIS MARQUES DOS SANTOS JUNIOR, 05-Administrador}], ATIVA, , OK, (11) 3783-7356 / (11) 3783-7067, MATRIZ, SP, 2018-07-10T23:21:16.110Z}|\n",
            "+--------------+-------------------+------------------------------------+---------------------------------------------------------------------------------------------------------------------------------------------------------------------------------------------------------------------------------------------------------------------------------------------------------------------------------------------------------------------------------------------------------------------------------------------------------------------------------------------------------------------------------------------------------------------------------------------------------------------------------------------------------------------------------------------------------------------------------------------------------------------------------------------------------------------------------------------------------------------------------------------------------------------------------------------------------------------------------------------------------------------------------------------------------------------------------------------------------------------------------------------------------------------------------------------------------------------------------------------------------------------------------------------------------------------------------------------------------------------------------------------------------------------------------------------------------------------------------------------------------------------------------------------------------------------------------------------------------------------------------------------------------------------------------------------------------------------------------------------------------------------------------------------------------------------------------------------------------------------------------------------------------------------------------------------------------------------------------------------------------------------------------------------------------------------------------------------------------------+\n",
            "only showing top 20 rows\n",
            "\n"
          ]
        }
      ]
    },
    {
      "cell_type": "code",
      "source": [
        "cnpj.select(\"cnpj\", \"response.municipio\").show()"
      ],
      "metadata": {
        "colab": {
          "base_uri": "https://localhost:8080/"
        },
        "id": "YtlZGBcs7dr3",
        "outputId": "052346a2-eb92-44d8-94ca-523e9bd20292"
      },
      "execution_count": 191,
      "outputs": [
        {
          "output_type": "stream",
          "name": "stdout",
          "text": [
            "+--------------+--------------------+\n",
            "|          cnpj|           municipio|\n",
            "+--------------+--------------------+\n",
            "|68093095000179|             ATIBAIA|\n",
            "|13492669000190|           SAO PAULO|\n",
            "|74683392000177|           SAO PAULO|\n",
            "|12423658000195|             CARPINA|\n",
            "|00588458000103|          MONTE ALTO|\n",
            "|61365557000110|SAO SEBASTIAO DO ...|\n",
            "|75315333008274|   JUAZEIRO DO NORTE|\n",
            "|33033028000184|            CURITIBA|\n",
            "|04939545000119|             ATIBAIA|\n",
            "|46842894000591|        CANDIDO MOTA|\n",
            "|60879467000185|           SAO PAULO|\n",
            "|29737368003487|           GUARAREMA|\n",
            "|04869719000114|            CURITIBA|\n",
            "|01097783000640|      BELO HORIZONTE|\n",
            "|08192116000181|           SAO PAULO|\n",
            "|07175867000127|           SAO PAULO|\n",
            "|05215210000110|            CURITIBA|\n",
            "|06940040000108|               SERRA|\n",
            "|32223965000130|  RIBEIRAO DO PINHAL|\n",
            "|59557124000115|           SAO PAULO|\n",
            "+--------------+--------------------+\n",
            "only showing top 20 rows\n",
            "\n"
          ]
        }
      ]
    },
    {
      "cell_type": "code",
      "source": [
        "data[7]"
      ],
      "metadata": {
        "colab": {
          "base_uri": "https://localhost:8080/"
        },
        "id": "yzBKltnYsCH7",
        "outputId": "20fe43f6-fc3e-4a5c-daec-722bb4b77ce3"
      },
      "execution_count": 141,
      "outputs": [
        {
          "output_type": "execute_result",
          "data": {
            "text/plain": [
              "{'cnpj': '33033028000184',\n",
              " 'created_at': '2018-08-24 01:25:49',\n",
              " 'id': '717e6f70-7058-49b3-b1a8-5306e4178157',\n",
              " 'response': {'abertura': '24/01/1973',\n",
              "  'atividade_principal': [{'code': '82.99-7-99',\n",
              "    'text': 'Outras atividades de serviços prestados principalmente às empresas não especificadas anteriormente'}],\n",
              "  'atividades_secundarias': [{'code': '10.52-0-00',\n",
              "    'text': 'Fabricação de laticínios'},\n",
              "   {'code': '10.93-7-01',\n",
              "    'text': 'Fabricação de produtos derivados do cacau e de chocolates'},\n",
              "   {'code': '10.93-7-02',\n",
              "    'text': 'Fabricação de frutas cristalizadas, balas e semelhantes'},\n",
              "   {'code': '10.99-6-02', 'text': 'Fabricação de pós alimentícios'},\n",
              "   {'code': '10.99-6-03', 'text': 'Fabricação de fermentos e leveduras'},\n",
              "   {'code': '10.99-6-99',\n",
              "    'text': 'Fabricação de outros produtos alimentícios não especificados anteriormente'},\n",
              "   {'code': '82.11-3-00',\n",
              "    'text': 'Serviços combinados de escritório e apoio administrativo'},\n",
              "   {'code': '82.19-9-99',\n",
              "    'text': 'Preparação de documentos e serviços especializados de apoio administrativo não especificados anteriormente'}],\n",
              "  'bairro': 'AGUA VERDE',\n",
              "  'billing': {'database': True, 'free': True},\n",
              "  'capital_social': '68578207.00',\n",
              "  'cep': '80.610-010',\n",
              "  'cnpj': '33.033.028/0001-84',\n",
              "  'complemento': 'PARTE',\n",
              "  'data_situacao': '03/11/2005',\n",
              "  'data_situacao_especial': '',\n",
              "  'efr': '',\n",
              "  'email': 'corporate.brasil@mdlz.com',\n",
              "  'extra': {},\n",
              "  'fantasia': 'MONDELEZ BRASIL',\n",
              "  'google_place_id': 'ChIJm3EeF5zk3JQR3n60owd8Qic',\n",
              "  'latitude': -25.4671819,\n",
              "  'logradouro': 'AV PRESIDENTE KENNEDY',\n",
              "  'longitude': -49.2800834,\n",
              "  'motivo_situacao': '',\n",
              "  'municipio': 'CURITIBA',\n",
              "  'natureza_juridica': '206-2 - Sociedade Empresária Limitada',\n",
              "  'nome': 'MONDELEZ BRASIL LTDA',\n",
              "  'numero': '2511',\n",
              "  'qsa': [{'nome': 'KRAFT FOODS LA MB HOLDING BV',\n",
              "    'nome_rep_legal': 'AUGUSTO JOSE LEMOS',\n",
              "    'pais_origem': 'PAÍSES BAIXOS (HOLANDA)',\n",
              "    'qual': '37-Sócio Pessoa Jurídica Domiciliado no Exterior',\n",
              "    'qual_rep_legal': '17-Procurador'},\n",
              "   {'nome': 'KRAFT FOODS LA NMB BV',\n",
              "    'nome_rep_legal': 'AUGUSTO JOSE LEMOS',\n",
              "    'pais_origem': 'PAÍSES BAIXOS (HOLANDA)',\n",
              "    'qual': '37-Sócio Pessoa Jurídica Domiciliado no Exterior',\n",
              "    'qual_rep_legal': '17-Procurador'},\n",
              "   {'nome': 'AUGUSTO JOSE LEMOS', 'qual': '05-Administrador'},\n",
              "   {'nome': 'PEDRO HENRIQUE FERNANDES', 'qual': '05-Administrador'},\n",
              "   {'nome': 'FABIO NOGUEIRA MAGALHAES', 'qual': '05-Administrador'}],\n",
              "  'situacao': 'ATIVA',\n",
              "  'situacao_especial': '',\n",
              "  'status': 'OK',\n",
              "  'telefone': '(41) 3314-4000',\n",
              "  'tipo': 'MATRIZ',\n",
              "  'uf': 'PR',\n",
              "  'ultima_atualizacao': '2018-08-16T11:54:16.285Z'}}"
            ]
          },
          "metadata": {},
          "execution_count": 141
        }
      ]
    }
  ]
}